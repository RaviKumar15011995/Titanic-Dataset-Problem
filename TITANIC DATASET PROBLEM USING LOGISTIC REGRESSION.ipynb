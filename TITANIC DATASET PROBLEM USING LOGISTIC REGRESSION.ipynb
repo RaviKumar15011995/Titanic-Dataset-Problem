{
 "cells": [
  {
   "cell_type": "markdown",
   "metadata": {},
   "source": [
    "\n",
    "\n",
    "## Import Libraries\n",
    "Let's import some libraries to get started!"
   ]
  },
  {
   "cell_type": "code",
   "execution_count": 46,
   "metadata": {},
   "outputs": [],
   "source": [
    "import pandas as pd\n",
    "import numpy as np\n",
    "import matplotlib.pyplot as plt\n",
    "import seaborn as sns\n",
    "%matplotlib inline"
   ]
  },
  {
   "cell_type": "markdown",
   "metadata": {},
   "source": [
    "## The Data\n",
    "\n",
    "Let's start by reading in the titanic_train.csv file into a pandas dataframe."
   ]
  },
  {
   "cell_type": "code",
   "execution_count": 47,
   "metadata": {},
   "outputs": [],
   "source": [
    "train = pd.read_csv(r'D:\\Microsoft Edx\\EDA1-master\\EDA1-master\\titanic_train.csv')"
   ]
  },
  {
   "cell_type": "code",
   "execution_count": 48,
   "metadata": {},
   "outputs": [
    {
     "data": {
      "text/html": [
       "<div>\n",
       "<style scoped>\n",
       "    .dataframe tbody tr th:only-of-type {\n",
       "        vertical-align: middle;\n",
       "    }\n",
       "\n",
       "    .dataframe tbody tr th {\n",
       "        vertical-align: top;\n",
       "    }\n",
       "\n",
       "    .dataframe thead th {\n",
       "        text-align: right;\n",
       "    }\n",
       "</style>\n",
       "<table border=\"1\" class=\"dataframe\">\n",
       "  <thead>\n",
       "    <tr style=\"text-align: right;\">\n",
       "      <th></th>\n",
       "      <th>PassengerId</th>\n",
       "      <th>Survived</th>\n",
       "      <th>Pclass</th>\n",
       "      <th>Name</th>\n",
       "      <th>Sex</th>\n",
       "      <th>Age</th>\n",
       "      <th>SibSp</th>\n",
       "      <th>Parch</th>\n",
       "      <th>Ticket</th>\n",
       "      <th>Fare</th>\n",
       "      <th>Cabin</th>\n",
       "      <th>Embarked</th>\n",
       "    </tr>\n",
       "  </thead>\n",
       "  <tbody>\n",
       "    <tr>\n",
       "      <th>0</th>\n",
       "      <td>1</td>\n",
       "      <td>0</td>\n",
       "      <td>3</td>\n",
       "      <td>Braund, Mr. Owen Harris</td>\n",
       "      <td>male</td>\n",
       "      <td>22.0</td>\n",
       "      <td>1</td>\n",
       "      <td>0</td>\n",
       "      <td>A/5 21171</td>\n",
       "      <td>7.2500</td>\n",
       "      <td>NaN</td>\n",
       "      <td>S</td>\n",
       "    </tr>\n",
       "    <tr>\n",
       "      <th>1</th>\n",
       "      <td>2</td>\n",
       "      <td>1</td>\n",
       "      <td>1</td>\n",
       "      <td>Cumings, Mrs. John Bradley (Florence Briggs Th...</td>\n",
       "      <td>female</td>\n",
       "      <td>38.0</td>\n",
       "      <td>1</td>\n",
       "      <td>0</td>\n",
       "      <td>PC 17599</td>\n",
       "      <td>71.2833</td>\n",
       "      <td>C85</td>\n",
       "      <td>C</td>\n",
       "    </tr>\n",
       "    <tr>\n",
       "      <th>2</th>\n",
       "      <td>3</td>\n",
       "      <td>1</td>\n",
       "      <td>3</td>\n",
       "      <td>Heikkinen, Miss. Laina</td>\n",
       "      <td>female</td>\n",
       "      <td>26.0</td>\n",
       "      <td>0</td>\n",
       "      <td>0</td>\n",
       "      <td>STON/O2. 3101282</td>\n",
       "      <td>7.9250</td>\n",
       "      <td>NaN</td>\n",
       "      <td>S</td>\n",
       "    </tr>\n",
       "    <tr>\n",
       "      <th>3</th>\n",
       "      <td>4</td>\n",
       "      <td>1</td>\n",
       "      <td>1</td>\n",
       "      <td>Futrelle, Mrs. Jacques Heath (Lily May Peel)</td>\n",
       "      <td>female</td>\n",
       "      <td>35.0</td>\n",
       "      <td>1</td>\n",
       "      <td>0</td>\n",
       "      <td>113803</td>\n",
       "      <td>53.1000</td>\n",
       "      <td>C123</td>\n",
       "      <td>S</td>\n",
       "    </tr>\n",
       "    <tr>\n",
       "      <th>4</th>\n",
       "      <td>5</td>\n",
       "      <td>0</td>\n",
       "      <td>3</td>\n",
       "      <td>Allen, Mr. William Henry</td>\n",
       "      <td>male</td>\n",
       "      <td>35.0</td>\n",
       "      <td>0</td>\n",
       "      <td>0</td>\n",
       "      <td>373450</td>\n",
       "      <td>8.0500</td>\n",
       "      <td>NaN</td>\n",
       "      <td>S</td>\n",
       "    </tr>\n",
       "  </tbody>\n",
       "</table>\n",
       "</div>"
      ],
      "text/plain": [
       "   PassengerId  Survived  Pclass  \\\n",
       "0            1         0       3   \n",
       "1            2         1       1   \n",
       "2            3         1       3   \n",
       "3            4         1       1   \n",
       "4            5         0       3   \n",
       "\n",
       "                                                Name     Sex   Age  SibSp  \\\n",
       "0                            Braund, Mr. Owen Harris    male  22.0      1   \n",
       "1  Cumings, Mrs. John Bradley (Florence Briggs Th...  female  38.0      1   \n",
       "2                             Heikkinen, Miss. Laina  female  26.0      0   \n",
       "3       Futrelle, Mrs. Jacques Heath (Lily May Peel)  female  35.0      1   \n",
       "4                           Allen, Mr. William Henry    male  35.0      0   \n",
       "\n",
       "   Parch            Ticket     Fare Cabin Embarked  \n",
       "0      0         A/5 21171   7.2500   NaN        S  \n",
       "1      0          PC 17599  71.2833   C85        C  \n",
       "2      0  STON/O2. 3101282   7.9250   NaN        S  \n",
       "3      0            113803  53.1000  C123        S  \n",
       "4      0            373450   8.0500   NaN        S  "
      ]
     },
     "execution_count": 48,
     "metadata": {},
     "output_type": "execute_result"
    }
   ],
   "source": [
    "\"\"\"\n",
    "Pclass = Passenger Class\n",
    "SipSp = count of sibling plus spouse\n",
    "Parch = count of parents with children\n",
    "\n",
    "\n",
    "The Problem statement is that Based on the features we have to predict whether the passenger is survived or not.\n",
    "\"\"\"\n",
    "train.head()"
   ]
  },
  {
   "cell_type": "markdown",
   "metadata": {},
   "source": [
    "# Exploratory Data Analysis\n",
    "\n",
    "\n",
    "## Missing Data\n",
    "\n",
    "We can use seaborn to create a simple heatmap to see where we are missing data!"
   ]
  },
  {
   "cell_type": "code",
   "execution_count": 49,
   "metadata": {},
   "outputs": [
    {
     "data": {
      "text/html": [
       "<div>\n",
       "<style scoped>\n",
       "    .dataframe tbody tr th:only-of-type {\n",
       "        vertical-align: middle;\n",
       "    }\n",
       "\n",
       "    .dataframe tbody tr th {\n",
       "        vertical-align: top;\n",
       "    }\n",
       "\n",
       "    .dataframe thead th {\n",
       "        text-align: right;\n",
       "    }\n",
       "</style>\n",
       "<table border=\"1\" class=\"dataframe\">\n",
       "  <thead>\n",
       "    <tr style=\"text-align: right;\">\n",
       "      <th></th>\n",
       "      <th>PassengerId</th>\n",
       "      <th>Survived</th>\n",
       "      <th>Pclass</th>\n",
       "      <th>Name</th>\n",
       "      <th>Sex</th>\n",
       "      <th>Age</th>\n",
       "      <th>SibSp</th>\n",
       "      <th>Parch</th>\n",
       "      <th>Ticket</th>\n",
       "      <th>Fare</th>\n",
       "      <th>Cabin</th>\n",
       "      <th>Embarked</th>\n",
       "    </tr>\n",
       "  </thead>\n",
       "  <tbody>\n",
       "    <tr>\n",
       "      <th>0</th>\n",
       "      <td>False</td>\n",
       "      <td>False</td>\n",
       "      <td>False</td>\n",
       "      <td>False</td>\n",
       "      <td>False</td>\n",
       "      <td>False</td>\n",
       "      <td>False</td>\n",
       "      <td>False</td>\n",
       "      <td>False</td>\n",
       "      <td>False</td>\n",
       "      <td>True</td>\n",
       "      <td>False</td>\n",
       "    </tr>\n",
       "    <tr>\n",
       "      <th>1</th>\n",
       "      <td>False</td>\n",
       "      <td>False</td>\n",
       "      <td>False</td>\n",
       "      <td>False</td>\n",
       "      <td>False</td>\n",
       "      <td>False</td>\n",
       "      <td>False</td>\n",
       "      <td>False</td>\n",
       "      <td>False</td>\n",
       "      <td>False</td>\n",
       "      <td>False</td>\n",
       "      <td>False</td>\n",
       "    </tr>\n",
       "    <tr>\n",
       "      <th>2</th>\n",
       "      <td>False</td>\n",
       "      <td>False</td>\n",
       "      <td>False</td>\n",
       "      <td>False</td>\n",
       "      <td>False</td>\n",
       "      <td>False</td>\n",
       "      <td>False</td>\n",
       "      <td>False</td>\n",
       "      <td>False</td>\n",
       "      <td>False</td>\n",
       "      <td>True</td>\n",
       "      <td>False</td>\n",
       "    </tr>\n",
       "    <tr>\n",
       "      <th>3</th>\n",
       "      <td>False</td>\n",
       "      <td>False</td>\n",
       "      <td>False</td>\n",
       "      <td>False</td>\n",
       "      <td>False</td>\n",
       "      <td>False</td>\n",
       "      <td>False</td>\n",
       "      <td>False</td>\n",
       "      <td>False</td>\n",
       "      <td>False</td>\n",
       "      <td>False</td>\n",
       "      <td>False</td>\n",
       "    </tr>\n",
       "    <tr>\n",
       "      <th>4</th>\n",
       "      <td>False</td>\n",
       "      <td>False</td>\n",
       "      <td>False</td>\n",
       "      <td>False</td>\n",
       "      <td>False</td>\n",
       "      <td>False</td>\n",
       "      <td>False</td>\n",
       "      <td>False</td>\n",
       "      <td>False</td>\n",
       "      <td>False</td>\n",
       "      <td>True</td>\n",
       "      <td>False</td>\n",
       "    </tr>\n",
       "    <tr>\n",
       "      <th>...</th>\n",
       "      <td>...</td>\n",
       "      <td>...</td>\n",
       "      <td>...</td>\n",
       "      <td>...</td>\n",
       "      <td>...</td>\n",
       "      <td>...</td>\n",
       "      <td>...</td>\n",
       "      <td>...</td>\n",
       "      <td>...</td>\n",
       "      <td>...</td>\n",
       "      <td>...</td>\n",
       "      <td>...</td>\n",
       "    </tr>\n",
       "    <tr>\n",
       "      <th>886</th>\n",
       "      <td>False</td>\n",
       "      <td>False</td>\n",
       "      <td>False</td>\n",
       "      <td>False</td>\n",
       "      <td>False</td>\n",
       "      <td>False</td>\n",
       "      <td>False</td>\n",
       "      <td>False</td>\n",
       "      <td>False</td>\n",
       "      <td>False</td>\n",
       "      <td>True</td>\n",
       "      <td>False</td>\n",
       "    </tr>\n",
       "    <tr>\n",
       "      <th>887</th>\n",
       "      <td>False</td>\n",
       "      <td>False</td>\n",
       "      <td>False</td>\n",
       "      <td>False</td>\n",
       "      <td>False</td>\n",
       "      <td>False</td>\n",
       "      <td>False</td>\n",
       "      <td>False</td>\n",
       "      <td>False</td>\n",
       "      <td>False</td>\n",
       "      <td>False</td>\n",
       "      <td>False</td>\n",
       "    </tr>\n",
       "    <tr>\n",
       "      <th>888</th>\n",
       "      <td>False</td>\n",
       "      <td>False</td>\n",
       "      <td>False</td>\n",
       "      <td>False</td>\n",
       "      <td>False</td>\n",
       "      <td>True</td>\n",
       "      <td>False</td>\n",
       "      <td>False</td>\n",
       "      <td>False</td>\n",
       "      <td>False</td>\n",
       "      <td>True</td>\n",
       "      <td>False</td>\n",
       "    </tr>\n",
       "    <tr>\n",
       "      <th>889</th>\n",
       "      <td>False</td>\n",
       "      <td>False</td>\n",
       "      <td>False</td>\n",
       "      <td>False</td>\n",
       "      <td>False</td>\n",
       "      <td>False</td>\n",
       "      <td>False</td>\n",
       "      <td>False</td>\n",
       "      <td>False</td>\n",
       "      <td>False</td>\n",
       "      <td>False</td>\n",
       "      <td>False</td>\n",
       "    </tr>\n",
       "    <tr>\n",
       "      <th>890</th>\n",
       "      <td>False</td>\n",
       "      <td>False</td>\n",
       "      <td>False</td>\n",
       "      <td>False</td>\n",
       "      <td>False</td>\n",
       "      <td>False</td>\n",
       "      <td>False</td>\n",
       "      <td>False</td>\n",
       "      <td>False</td>\n",
       "      <td>False</td>\n",
       "      <td>True</td>\n",
       "      <td>False</td>\n",
       "    </tr>\n",
       "  </tbody>\n",
       "</table>\n",
       "<p>891 rows × 12 columns</p>\n",
       "</div>"
      ],
      "text/plain": [
       "     PassengerId  Survived  Pclass   Name    Sex    Age  SibSp  Parch  Ticket  \\\n",
       "0          False     False   False  False  False  False  False  False   False   \n",
       "1          False     False   False  False  False  False  False  False   False   \n",
       "2          False     False   False  False  False  False  False  False   False   \n",
       "3          False     False   False  False  False  False  False  False   False   \n",
       "4          False     False   False  False  False  False  False  False   False   \n",
       "..           ...       ...     ...    ...    ...    ...    ...    ...     ...   \n",
       "886        False     False   False  False  False  False  False  False   False   \n",
       "887        False     False   False  False  False  False  False  False   False   \n",
       "888        False     False   False  False  False   True  False  False   False   \n",
       "889        False     False   False  False  False  False  False  False   False   \n",
       "890        False     False   False  False  False  False  False  False   False   \n",
       "\n",
       "      Fare  Cabin  Embarked  \n",
       "0    False   True     False  \n",
       "1    False  False     False  \n",
       "2    False   True     False  \n",
       "3    False  False     False  \n",
       "4    False   True     False  \n",
       "..     ...    ...       ...  \n",
       "886  False   True     False  \n",
       "887  False  False     False  \n",
       "888  False   True     False  \n",
       "889  False  False     False  \n",
       "890  False   True     False  \n",
       "\n",
       "[891 rows x 12 columns]"
      ]
     },
     "execution_count": 49,
     "metadata": {},
     "output_type": "execute_result"
    }
   ],
   "source": [
    "train.isnull()  #it will check each and every row whether that cell value is null or not ,if its null then it returns true"
   ]
  },
  {
   "cell_type": "code",
   "execution_count": 87,
   "metadata": {},
   "outputs": [
    {
     "data": {
      "text/plain": [
       "<matplotlib.axes._subplots.AxesSubplot at 0x19d14802c48>"
      ]
     },
     "execution_count": 87,
     "metadata": {},
     "output_type": "execute_result"
    },
    {
     "data": {
      "image/png": "iVBORw0KGgoAAAANSUhEUgAAAV0AAAEnCAYAAAAKMZAQAAAABHNCSVQICAgIfAhkiAAAAAlwSFlzAAALEgAACxIB0t1+/AAAADh0RVh0U29mdHdhcmUAbWF0cGxvdGxpYiB2ZXJzaW9uMy4xLjMsIGh0dHA6Ly9tYXRwbG90bGliLm9yZy+AADFEAAAWFUlEQVR4nO3de3BU9d3H8c9CWGIJ9xhQiICIBCxMUYEJLbRCpS1F5aaQcqnUAJYicqcMIYBtE2pKEWdQpoxgA0gqDmAhGhVGSSnlMsIUiAZIDKTcknBnEzAhOc8fPLtPoAn1mcn5HmjerxlmMDvD7zs4vPfs2XN+x+c4jiMAgIk6Xg8AALUJ0QUAQ0QXAAwRXQAwRHQBwBDRBQBDYbd78ck6z1rNAQD/NT6pWF/taxzpAoAhogsAhoguABgiugBgiOgCgCGiCwCGiC4AGCK6AGCI6AKAIaILAIaILgAYIroAYIjoAoAhogsAhoguABgiugBgiOgCgCGiCwCGiC4AGCK6AGCI6AKAIaILAIaILgAYIroAYIjoAoAhogsAhoguABgiugBgiOgCgCGiCwCGiC4AGCK6AGCI6AKAIaILAIaILgAYIroAYIjoAoAhogsAhoguABgiugBgiOgCgCGiCwCGiC4AGCK6AGCI6AKAIaILAIaILgAYIroAYIjoAoAhogsAhoguABgiugBgiOgCgCGiCwCGiC4AGCK6AGCI6AKAIaILAIaILgAYIroAYIjoAoAhogsAhoguABgiugBgiOgCgCGiCwCGiC4AGCK6AGCI6AKAIaILAIaILgAYIroAYIjoAoAhogsAhoguABgiugBgiOgCgCGiCwCGiC4AGCK6AGCI6AKAIaILAIaILgAYIroAYIjoAoAhogsAhoguABgiugBgiOgCgCGiCwCGiC4AGCK6AGCI6AKAIaILAIaILgAYIroAYIjoAoAhogsAhoguABgiugBgiOgCgCGiCwCGiC4AGCK6AGCI6AKAIaILAIaILgAYIroAYIjoAoAhogsAhoguABgiugBgiOgCgCGiCwCGiC4AGCK6AGCI6AKAIaILAIaILgAYIroAYIjoAoAhogsAhoguABgiugBgiOgCgCGiCwCGiC4AGCK6AGCI6AKAIaILAIaILgAYIroAYIjoAoAhogsAhoguABgiugBgiOgCgCGiCwCGiC4AGCK6AGCI6AKAIaILAIaILgAYIroAYIjoAoAhogsAhoguABgiugBgiOgCgCGiCwCGiC4AGCK6AGCI6AKAIaILAIaILgAYIroAYIjoAoAhogsAhoguABgiugBgiOgCgCGiCwCGiC4AGCK6AGCI6AKAIaILAIaILgAYIroAYIjoAoAhogsAhoguABgiugBgiOgCgCGiCwCGiC4AGCK6AGCI6AKAIaILAIaILgAYIroAYIjoAoAhogsAhoguABgiugBgiOgCgCGiCwCGiC4AGCK6AGCI6AKAIaILAIaILgAYIroAYIjoAoAhogsAhoguABgiugBgiOgCgCGiCwCGiC4AGCK6AGCI6AKAIaILAIaILgAYIroAYIjoAoAhogsAhoguABgiugBgiOgCgCGiCwCGiC4AGCK6AGCI6AKAIaILAIaILgAYIroAYMjnOI7j9RAAUFtwpAsAhoguABgiugBgiOgCgCGiCwCGiC4AGCK6AGCI6NYSx44d0/bt23XmzBlxaTbuJKWlpTp58qSuXbsmSbp8+bKuXr3qySyXL19WIBBwdY0wV/90SJIqKirkOI7279+vrl27yu/3m66/Zs0affLJJ7p06ZIGDRqk/Px8JSYmms4QVFFRofPnz6t58+by+XyezHCnCAQCOnnypKKjo/Wtb33LkxmOHTum48ePq2PHjmrRooXp/5OysjIlJydr+/btioyM1OnTp/WDH/xAZWVlGjt2rB5++GHXZ8jKytLcuXO1fv16ffrpp1qwYIEaNmyo2bNnq2/fvq6sWaPRnTNnTrWvJScn1+RS1dq7d2+1r3Xv3t1khspSUlIUHR2tU6dOKSsrS5GRkfr9739vOkN6erreeecdjRkzRs8//7yGDh1qun7Qxx9/rEWLFqlRo0YqLi7WggUL9N3vftd8jhMnTuijjz666Whq0qRJpjNkZGRo+fLlKi8v149//GP5fD5NnDjRdAav34yXLVum5s2ba9u2bZJuvCEnJCTo3LlzJsGVpCVLlmjRokWqV6+eXnvtNa1YsUJt2rRRfHz83RHdAQMGSJLWrVunbt266dFHH9XBgwd18ODBmlzmttatWydJys/PV1lZmbp06aIvvvhCDRo00OrVq83mCPr88881c+ZMjR49WqtXr9bPf/5z8xmCpxOCRzHWR9pBb7zxhtavX6/mzZvr7NmzevHFFz2J7vTp09W7d29FRkaarx309ttv691339ULL7ygiRMnaujQoebR9frNePfu3aF/r5JUp04dFRQU6MKFC2YzOI6jmJgYFRQU6OrVq3rkkUdCs7ilRqPbu3dvSdKqVas0btw4SdJjjz2msWPH1uQyt/XHP/5RkjR+/Hi98cYbCgsLU3l5ucaPH282Q2UVFRU6cOCAWrdurdLSUp0/f958hp/+9KcaOXKkTp06pXHjxumHP/yh+QyS1KRJEzVv3lySFBkZqYiICE/mCA8PNz+yvVWdOnXk9/vl8/nk8/l0zz33mM/g9ZtxVWFbsmSJXnzxRbMZKioqJEl/+9vfFBsbK+nGOebi4mLX1nTlnG5JSYn+8Y9/qEuXLtq/f7/KysrcWOa2ioqKQr8vLy/3JHaS9Mwzz+g3v/mNkpKSlJKSojFjxpjPMHr0aPXq1UtHjhzRgw8+qI4dO5rPIEkRERF64YUX1L17dx06dEjXrl0LvUlOmzbN9fXz8vIk3Qj+5s2b9cgjj4SC065dO9fXr+zxxx/X9OnTVVBQoMTERHXp0sV0fUkaOHCgp2/G4eHhys/P1wMPPBD62cWLF03fgGJjYzVixAidOXNGb775pvLz87VgwYLQp3Y3uLLLWG5urpYuXaqcnBy1b99eiYmJuvfee2t6mdtau3atUlNT9fDDDysnJ0cvvfSSq3+R38Tp06d13333ma9767n2evXqqWXLlho5cqQaN25sNsfGjRurfW3w4MGurz969Ogqf+7z+ZSamur6+pVduXJF+/fvD70RunX+8D/Jzc3VkSNH1K5dO8XExJiufejQIc2aNUvPPfecWrdurX/961967733lJKSos6dO5vNkZubq2bNmqlp06bKz8/X4cOH9eSTT7q23n/11o6BQEBfffWVWrdurWbNmnkyQ2pqqsLDw3X58mVt2LBBvXv3vu0Xjm6YNm2aoqOj9fjjj+uf//ynDh48qE6dOik7O1vLly83mSE7O1sxMTEqLS3V+vXr5ff7NXToUFfPnVXn66+/Vm5urjp37qytW7fq+9//vurVq2c6Q1xc3E3nMy0tXry42qsULD5xVFZQUKBNmzbp5MmTatWqlZ555hm1bNnSdAZrNXp64Xvf+161r+3YsaMml/qPjh49qvnz5+vKlSt66qmn1KFDBz3xxBOmM0g3vqxYvXq14uPjlZ6e7skXaefPnw99jO/du7d+8YtfaMqUKRo5cqTJ+qtWrdIHH3ygdevW6dVXX9WpU6d0//33KykpSQkJCSYzVDZz5kzFxsaqc+fOysvL04cffqjFixebztC4cWP9+c9/Vrt27UJvPLf791OTHnzwQZN1vokWLVpowoQJXo9hqkajGwzr5cuX1ahRo5r8o//ffvvb3yo5OVkJCQkaNmyY4uPjPYmuz+dTUVGRIiMj5fP5dOnSJfMZAoGAcnNz1b59e+Xm5qqkpEQXLlxQSUmJyfqZmZlKS0uTz+fTli1b9NFHH6lx48YaMWKEyfq3KigoUFxcnCRp3Lhx1Z52cFPTpk2VnZ2t7Ozs0M+sohs8lXP9+nUdPHhQ169fl+M4KiwsNFm/tnPli7QJEyZ49tGpsjZt2sjn86lZs2Zq0KCBJzP07NlTo0aN0uLFi5WUlKT+/fubz5CYmKiZM2eqsLBQ4eHhGjx4sD744AOzb4nr1KmjunXrKisrS9HR0aHzyF6e2crLy1O7du2Un58f+gbb0q3XrXsRvEmTJqmsrEyFhYUqLy9XVFSUBg4caD5HbeNKdL386FR5hrS0NF29elXp6emeHXlPnTpVU6dOlSR16dLF/NyhJHXt2lULFizQmjVr9Pe//13nzp3Tr371K9MZ8vLytGHDhtAXRkePHvXkfK4kzZ07V1OmTNG5c+cUFRWlV155xXyG119/Xe+8847Kysp07do1tW3bVunp6aYzBAIBrVmzRnPnztW8efNML+2szVyJrpcfnYKSkpK0fPlyNW3aVIcOHdLvfvc70/WDtm3bFvrH5TiOLl68qM2bN5usXVpaqvT0dK1du1Z+v1+BQEDbtm1TeHi4yfpBL7/8smbNmqVWrVpp2rRp2rNnj2bOnKmlS5eazhG0d+9evf/++56sHZSZmanMzEwlJSVp7NixWrhwofkMdevWlSRdvXpV4eHhKi0tNZ+hNnIlusnJycrLy1N+fr46duyoqKgoN5a5rddff13PPfecHnroIfO1K1u2bJnmzZuntLQ09ezZUzt37jRbu2/fvho4cKD+8Ic/qG3btoqPjzcPrnTjSHv9+vWh//7Od76jrVu3enLUL0nbt2/X888/H4qOF5o0aSK/36/i4mK1adPGkw1e+vfvr2XLlikmJkbDhw9Xw4YNzWeojVyJbuV7ugcPHqzjx4+bb7Dy6KOPKiUlRcXFxRoyZIgGDBjgSXCaNm2qbt26KS0tTUOGDNGGDRvM1h4zZoy2bNmikydPatiwYZ7vLnbw4EHNnz9fZ8+e1f3336+FCxd6cqPGhQsX1Lt3b7Vu3Tp0R1haWprpDC1bttR7772ne+65R4sXL3Z9Z6vqZtixY4fKysoUHh7u6ZtQreK4YMSIEU5FRYUzatQox3EcZ8iQIW4s840UFBQ4U6ZMcR577DFP1p8wYYKzZ88eZ9q0aU5mZqbTv39/8xl2797tzJgxw+nRo4fz6quvOocPHzafwXEcZ/jw4c7Ro0cdx3Gc7OxsJy4uzpM5Tpw48W+/rCxbtsxxHMcpLy939u3b51y5csVJTU0N/b1Y6t+/v7Nr1y7nyy+/DP2C+1w50nXugA1WTp06pY0bN+rjjz9W586dtWLFCvMZJGnhwoX66quv9Mtf/lJLly7V5MmTzWfo0aOHevToocuXL+v999/XrFmztGnTJvM56tevHzrd07FjR89OL1y/fl0ZGRmh29MLCwvNvkzbtWuXJk6cqDp16mjJkiVKTU315JI1SerQoYN69uzpydq1mSvRvRM2WHnppZf07LPPau3atZ5srBK8z19S6A6bqVOnerqHbKNGjTR69Gjzf+R/+ctfJElhYWFasGCBunfvrgMHDni24c3s2bP1xBNPaN++fYqKijK7Xlm6+TI5x+PTPf369dPw4cNvulnCagvW2syV6Hq5wcqZM2fUsmVLpaSkhG5MCG5+Y7mpSeVz2D6fT47jhIJrfZ+/14J//926dZN04w2pYcOG6tSpkyfzhIeHa8KECTp27JiSk5P1s5/9zGztym+6Xm/iHrxTki/QbLkS3cp7C2RmZppusLJq1SrNmTNH8+fPv+nn1puaBPfureo+/9pm2LBhatmy5U1H/15yHEdFRUUqKSlRSUmJ6V2CWVlZGjFihBzHUU5OTuj3XnyZFxkZ6fkmULWRKxve3AkbrGzdulV9+/b17AL8oMmTJys2NlZxcXFasWKFsrOzze/z91pycrLmzJmj0aNHh26Frlu3riIiIsyP+gOBgL788kvl5OQoKipKCQkJGjRokGbPnm2y/smTJ6t9rVWrViYzBE2ePFnFxcXq3Llz6KjbesOb2siVI12vN1iRpJ07d2rp0qXq27evhg0bpujoaLO1K7sT7vP32tNPP61Bgwbp3Xff1WeffRZ6DpX1XXFr1qzRypUrFRYWpoSEBPXp00f9+vUzncE6rLfjxV4kcCm6t26wUlxcbLrBinTjnGppaam2bdumV155RWVlZXr77bfN1q/M6/v8vRZ8DpXf7/+351BZRm/Lli3KyMhQIBDQrFmz1KdPH7O170QWexjj37kS3cobrNx3331KTEw03WAl6MCBA9qxY4fOnTunH/3oR6ZrSzfefGbMmOH5ff5ec6p5DpX1F0l+v19+v1/NmjXz5GkmgORSdLt27fpvd15ZP45kwIABiomJ0bPPPuvJvgtVfZStrap7DpXlJ59beX25FmovV6K7adMm/elPf9LXX38d+lnwMctWhgwZovj4eNM1K+Oj7P/x4jlUVcnJydH06dNDVw5Mnz499Fpt+3IT3nEluitWrNCbb77pyfPAgjIzMzV27FjP7ifno+z/GT9+vPr163fTc6ji4uJcfQ5VVV577bXQ773aQB1wJbrR0dFq06aNG3/0N3YnbGoSxEdZqX379qHfP/DAAzc9AdZKjx49zNcEbuXKdbpTpkxRIBBQp06dPLv+r6rrIS0v1+nVq5diY2PlOI527doVOpcp8VEWqM1cOdK9E+66qupx35MmTTJbn4+yAKriSnSfeuopbdy4UadPn1bPnj3VoUMHN5a5rcjISEk3Ptp/8cUX5tfH8lEWQFVcie78+fMVFRWlnTt36tvf/rZmz55tvrXirUeXXl7JAABBrmxMkJ+fr5dffll+v199+/bVlStX3FjmtvLy8kK/du/erdOnT5vPAAC3cuVIt7y8XOfPn5fP51MgEPBk05nExMTQ5ipNmjQx29AEAG7HlRpOmTJFcXFxOnTokIYPH266sUlWVpYGDRqkt956S6NGjVJRUZHOnDlT66+VBXBncOWSsaDz58+rUaNGCgtz5YC6SvHx8ZoxY4ZiYmI0YMAApaSkhDZX8eo6XQAIcuVI98MPP1R6erq2b9+uPn366K233nJjmSpVtblKRESE5/vqAoDkUnRXrlypXr166a9//as+++wzffrpp24sU6XqNlcpLi42mwEAquPK5/769etLkho0aCC/328avDtlcxUAqIor53R//etfa8+ePZo3b56ysrJUVFSkhQsX1vQy1crNzb1pc5XDhw+bb64CAFVx7Yu04uJiNWjQQGfPng3dHQYAtZ0r53T37t2rzz//XNu3b9eIESO0efNmN5YBgLuOK9FNSUlR27ZtlZqaqnXr1nGpFgD8L1eiW79+fTVv3lxhYWG69957VVpa6sYyAHDXcSW6ERERGjt2rH7yk59o7dq1nj5BAgDuJK58kVZaWqr8/Hw99NBDOnLkiNq2bSu/31/TywDAXceV6B4/flwZGRmh/Q4KCwtr5aPHAeBWrpxeCO7otW/fPp04cUIXL150YxkAuOu4Et3w8HBNmDBBLVq00KJFi3T27Fk3lgGAu44r0XUcR0VFRSopKVFJSYkuXbrkxjIAcNep8egGAgFNmjRJW7du1dNPP61+/fqpT58+Nb0MANyVavSLtDVr1mjlypUKCwtTQkICsQWAW9Toke6WLVuUkZGhtLQ0paam1uQfDQD/FWo0un6/X36/X82aNePxOABQBdcep+DiU4AA4K5Vo+d0e/XqpdjYWDmOo127doWe3CBJixcvrqllAOCuVaPR3bNnT7Wv9ejRo6aWAYC7lqtPAwYA3IxH5AKAIaILAIaILgAYIroAYIjoAoCh/wGnN07mM63lmgAAAABJRU5ErkJggg==\n",
      "text/plain": [
       "<Figure size 432x288 with 1 Axes>"
      ]
     },
     "metadata": {},
     "output_type": "display_data"
    }
   ],
   "source": [
    "\"\"\"\n",
    "Here we can see we have used heatmap to check the null values for each features.\n",
    "since it is not possible to show all the rows in jupyter to check the null values.\n",
    "xticklabels = True to show the feature names in x-axis\n",
    "yticklabels = False to not show the record number in y-axis\n",
    "cmap = 'viridis' to show the color  --optional\n",
    "cbar = False --optional \n",
    "\"\"\"\n",
    "\n",
    "sns.heatmap(train.isnull(),xticklabels=True,yticklabels=False,cbar=False,cmap='viridis')"
   ]
  },
  {
   "cell_type": "markdown",
   "metadata": {},
   "source": [
    "The yellow horizontal bars indicates that row value corresponding to a specific feature is missing."
   ]
  },
  {
   "cell_type": "code",
   "execution_count": 51,
   "metadata": {},
   "outputs": [
    {
     "data": {
      "text/plain": [
       "<matplotlib.axes._subplots.AxesSubplot at 0x19d1437a388>"
      ]
     },
     "execution_count": 51,
     "metadata": {},
     "output_type": "execute_result"
    },
    {
     "data": {
      "image/png": "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\n",
      "text/plain": [
       "<Figure size 432x288 with 1 Axes>"
      ]
     },
     "metadata": {},
     "output_type": "display_data"
    }
   ],
   "source": [
    "sns.set_style('whitegrid')\n",
    "sns.countplot(x='Survived',data=train)    # 0 means person didn't survive and 1 means person survived"
   ]
  },
  {
   "cell_type": "code",
   "execution_count": 52,
   "metadata": {},
   "outputs": [
    {
     "data": {
      "text/plain": [
       "<matplotlib.axes._subplots.AxesSubplot at 0x19d143c13c8>"
      ]
     },
     "execution_count": 52,
     "metadata": {},
     "output_type": "execute_result"
    },
    {
     "data": {
      "image/png": "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\n",
      "text/plain": [
       "<Figure size 432x288 with 1 Axes>"
      ]
     },
     "metadata": {},
     "output_type": "display_data"
    }
   ],
   "source": [
    "sns.set_style('whitegrid')\n",
    "sns.countplot(x='Survived',hue='Sex',data=train,palette='RdBu_r')"
   ]
  },
  {
   "cell_type": "code",
   "execution_count": 53,
   "metadata": {},
   "outputs": [
    {
     "data": {
      "text/plain": [
       "<matplotlib.axes._subplots.AxesSubplot at 0x19d1442d7c8>"
      ]
     },
     "execution_count": 53,
     "metadata": {},
     "output_type": "execute_result"
    },
    {
     "data": {
      "image/png": "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\n",
      "text/plain": [
       "<Figure size 432x288 with 1 Axes>"
      ]
     },
     "metadata": {},
     "output_type": "display_data"
    }
   ],
   "source": [
    "sns.set_style('whitegrid')\n",
    "sns.countplot(x='Survived',hue='Pclass',data=train,palette='rainbow')"
   ]
  },
  {
   "cell_type": "code",
   "execution_count": 54,
   "metadata": {},
   "outputs": [
    {
     "data": {
      "text/plain": [
       "<matplotlib.axes._subplots.AxesSubplot at 0x19d1449d988>"
      ]
     },
     "execution_count": 54,
     "metadata": {},
     "output_type": "execute_result"
    },
    {
     "data": {
      "image/png": "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\n",
      "text/plain": [
       "<Figure size 432x288 with 1 Axes>"
      ]
     },
     "metadata": {},
     "output_type": "display_data"
    }
   ],
   "source": [
    "sns.distplot(train['Age'].dropna(),kde=False,color='darkred',bins=40)  #histogram  -- freuency of ppl in different age"
   ]
  },
  {
   "cell_type": "code",
   "execution_count": 55,
   "metadata": {},
   "outputs": [
    {
     "data": {
      "text/plain": [
       "<matplotlib.axes._subplots.AxesSubplot at 0x19d14592148>"
      ]
     },
     "execution_count": 55,
     "metadata": {},
     "output_type": "execute_result"
    },
    {
     "data": {
      "image/png": "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\n",
      "text/plain": [
       "<Figure size 432x288 with 1 Axes>"
      ]
     },
     "metadata": {},
     "output_type": "display_data"
    }
   ],
   "source": [
    "train['Age'].hist(bins=30,color='darkred',alpha=0.3)"
   ]
  },
  {
   "cell_type": "code",
   "execution_count": 56,
   "metadata": {},
   "outputs": [
    {
     "data": {
      "text/plain": [
       "<matplotlib.axes._subplots.AxesSubplot at 0x19d146527c8>"
      ]
     },
     "execution_count": 56,
     "metadata": {},
     "output_type": "execute_result"
    },
    {
     "data": {
      "image/png": "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\n",
      "text/plain": [
       "<Figure size 432x288 with 1 Axes>"
      ]
     },
     "metadata": {},
     "output_type": "display_data"
    }
   ],
   "source": [
    "sns.countplot(x='SibSp',data=train)"
   ]
  },
  {
   "cell_type": "code",
   "execution_count": 57,
   "metadata": {},
   "outputs": [
    {
     "data": {
      "text/plain": [
       "<matplotlib.axes._subplots.AxesSubplot at 0x19d0f4882c8>"
      ]
     },
     "execution_count": 57,
     "metadata": {},
     "output_type": "execute_result"
    },
    {
     "data": {
      "image/png": "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\n",
      "text/plain": [
       "<Figure size 864x432 with 1 Axes>"
      ]
     },
     "metadata": {},
     "output_type": "display_data"
    }
   ],
   "source": [
    "#train['Fare'].hist(color='green',bins=40,figsize=(8,4))\n",
    "train['Fare'].hist(color ='red',bins=40,figsize=(12,6))"
   ]
  },
  {
   "cell_type": "markdown",
   "metadata": {},
   "source": [
    "___\n",
    "## Data Cleaning\n",
    "\n",
    "while doing some analysise we got know the the average age of different wealthier class based on the passenger class feature."
   ]
  },
  {
   "cell_type": "code",
   "execution_count": 58,
   "metadata": {},
   "outputs": [
    {
     "data": {
      "text/plain": [
       "<matplotlib.axes._subplots.AxesSubplot at 0x19d146d44c8>"
      ]
     },
     "execution_count": 58,
     "metadata": {},
     "output_type": "execute_result"
    },
    {
     "data": {
      "image/png": "iVBORw0KGgoAAAANSUhEUgAAAssAAAGnCAYAAABB1hpnAAAABHNCSVQICAgIfAhkiAAAAAlwSFlzAAALEgAACxIB0t1+/AAAADh0RVh0U29mdHdhcmUAbWF0cGxvdGxpYiB2ZXJzaW9uMy4xLjMsIGh0dHA6Ly9tYXRwbG90bGliLm9yZy+AADFEAAAgAElEQVR4nO3dfZCdZWE3/u/ZvCzsQqAkILUUDRjsqi2MzQS1IdNaIMSNE/SJgmSWsqCOso7dVmiAkkSKGplgRGMi6Ixrm4CWIo1MYgpphjHlxVRbyVPTVVaNokRe8gIkWbrZZM/vD4f8Hip3ImHPuZOzn89f3Ht2z/XdnL0P3732uu67Uq1WqwEAAH5DU9kBAADgcKUsAwBAAWUZAAAKKMsAAFBAWQYAgAKjyw5Q5JFHHklzc3PZMQAAaHADAwM566yzXvKxw7YsNzc3p62trewYAAA0uN7e3sLHLMMAAIACyjIAABRQlgEAoICyDAAABZRlAAAooCwDAEABZRkAAAooywAAUEBZBgCAAsoyAAAUUJYBAKCAsgwAAAWUZQAAKDC6Fk86ODiYa665Jo8//niamppy4403ZvTo0bnmmmtSqVQyadKkLFiwIE1NujoAAIevmpTlb3/729m7d2++/vWv58EHH8wtt9ySwcHBdHd35+yzz878+fOzbt26nHfeebUYHgAAhkVNyvLEiROzb9++DA0NZdeuXRk9enQeeeSRTJkyJUkybdq0PPjgg8ryb2HNmjVZtWpV2TFelu3btydJTjjhhJKTvDwzZ87MjBkzyo4BABxGalKWW1pa8vjjj2fGjBnZsWNHbr311nz3u99NpVJJkrS2tmbnzp0HfI6BgYH09vbWIt4RZcuWLenv7y87xsvy1FNPJUmOOuqokpO8PFu2bPEzBwC8SE3K8le/+tVMnTo1H/vYx/KrX/0qf/EXf5HBwcH9j+/evTvjxo074HM0Nzenra2tFvGOKG1tbbniiivKjvGydHV1JUmWLl1achIAgIM70GRZTXbYjRs3Lscee2yS5LjjjsvevXvzhje8IRs2bEiSrF+/PpMnT67F0AAAMGxqMrN82WWX5brrrssll1ySwcHB/NVf/VXe9KY3Zd68eVm8eHFOO+20TJ8+vRZDAwDAsKlJWW5tbc3nPve53/j4ihUrajEcAADUhAsdAwBAAWUZAAAKKMsAAFBAWQYAgALKMgAAFFCWAQCggLIMAAAFlGUAACigLAMAQAFlGQAACijLAABQQFkGAIACyjIAABRQlgEAoICyDAAABZRlAAAooCwDAEABZRkA4BXYunVrrrzyymzbtq3sKNSAsgwA8Ar09PRk48aN6enpKTsKNaAsAwAcoq1bt2b16tWpVqtZvXq12eUGpCwDAByinp6eVKvVJMnQ0JDZ5QakLAMAHKL77rsvg4ODSZLBwcHce++9JSdiuCnLAACH6Pzzz8+YMWOSJGPGjMn06dNLTsRwU5YBAA5RZ2dnKpVKkqSpqSmdnZ0lJ2K4KcsAAIdowoQJaW9vT6VSSXt7e8aPH192JIbZ6LIDAAAcyTo7O7N582azyg1KWQYAeAUmTJiQZcuWlR2DGrEMAwAACijLAABQQFkGAIACyjIAABRQlgEAoICyDADwCmzdujVXXnlltm3bVnYUakBZBgB4BXp6erJx48b09PSUHYUaUJYBGoTZLai/rVu3ZvXq1alWq1m9erXzrwHVpCzffffd6ejoSEdHR9773vfmD//wD/PII4/kPe95Ty6++OJ84QtfqMWwACOa2S2ov56enlSr1STJ0NCQ868B1aQsv/vd787y5cuzfPnyvPGNb8z111+fBQsW5DOf+Uy+9rWvZePGjdm0aVMthgYYkcxuQTnuu+++DA4OJkkGBwdz7733lpyI4VbTZRj/9V//lR//+Mdpb2/Pnj17cuqpp6ZSqWTq1Kl5+OGHazk0wIhidgvKcf7552fMmDFJkjFjxmT69OklJ2K4ja7lk992223p6urKrl27cswxx+z/eGtra37xi18c8GsHBgbS29tby3jUSH9/f5J4/aCO1qxZ86LZrW9961tpb28vORU0vqlTp2bVqlUvOvb/v8ZSs7L83HPP5ac//Wne8pa3ZNeuXdm9e/f+x3bv3p1x48Yd8Oubm5vT1tZWq3jUUEtLS5J4/aCOZsyYkVWrVmVwcDBjxozJO97xDucg1MnMmTOzcuXKvPOd78xb3vKWsuNwCA70C07NlmF897vfzdve9rYkyTHHHJMxY8bkscceS7VazQMPPJDJkyfXamiAEaezszOVSiVJ0tTUlM7OzpITwcjR2dmZM88803nXoGo2s7x58+accsop+49vuOGGXHXVVdm3b1+mTp2aM888s1ZDA4w4EyZMSHt7e1auXJn29vaMHz++7EgwYkyYMCHLli0rOwY1UrOy/P73v/9Fx2eddVbuvPPOWg0HMOJ1dnZm8+bNZrcAhlFNN/gBUD9mtwCGnzv4AQBAAWUZAAAKKMsAAFBAWQYAgALKMgAAFFCWAQCggLIMAAAFlGWABrF169ZceeWV2bZtW9lRABqGsgzQIHp6erJx48b09PSUHQWgYSjLAA1g69atWb16darValavXm12GWCYKMsADaCnpyfVajVJMjQ0ZHYZYJgoywAN4L777svg4GCSZHBwMPfee2/JiQAag7IM0ADOP//8jBkzJkkyZsyYTJ8+veREMHLYXNvYlGWABtDZ2ZlKpZIkaWpqSmdnZ8mJYOSwubaxKcsADWDChAlpb29PpVJJe3t7xo8fX3YkGBFsrm18yjJAg+js7MyZZ55pVhnqyObaxqcsAzSICRMmZNmyZWaVoY5srm18yjIAwCGyubbxKcsAAIfI5trGpywDABwim2sbn7IMAPAKzJo1Ky0tLbnwwgvLjkINKMsAAK/AN7/5zfT392flypVlR6EGlGUAgEPkOsuNT1kGADhErrPc+JRlAIBD5DrLjU9ZBmgQW7duzZVXXunPwFBHrrPc+JRlgAbR09OTjRs3+jMw1JHrLDc+ZRmgAdhkBOVwneXGpywDNACbjKA8nZ2dOfPMM80qNyhlGaAB2GQEUBvKMkADsMkIymO/QGNTlgEagE1GUA77BRqfsgzQAGwygnLYL9D4lGWABmGTEdSf/QKNT1kGADhE9gs0vpqV5dtuuy0XXXRR3v3ud+ef/umf8vOf/zzve9/7cskll2TBggUZGhqq1dAAI5JNRlB/9gs0vpqU5Q0bNuT73/9+vva1r2X58uV54oknsnDhwnR3d+eOO+5ItVrNunXrajE0wIhkkxGUw36BxleTsvzAAw/kjDPOSFdXVz70oQ/lT//0T7Np06ZMmTIlSTJt2rQ89NBDtRgaYESyyQjKY79AYxtdiyfdsWNHtmzZkltvvTW//OUv8+EPfzjVanX/nylaW1uzc+fOAz7HwMBAent7axGPGuvv708Srx/U0Zo1a160yehb3/pW2tvbS04FI8MzzzyT/v7+9PX15amnnio7DsOsJmX5+OOPz2mnnZaxY8fmtNNOS3Nzc5544on9j+/evTvjxo074HM0Nzenra2tFvGosZaWliTx+kEdzZgxI9/85jczNDSUpqamvOMd73AOQp0sWrQofX19eeCBB3LVVVeVHYdDcKAJvposw/jjP/7j/Nu//Vuq1WqefPLJPP/883nrW9+aDRs2JEnWr1+fyZMn12JogBFp1qxZ+zdODw0N5cILLyw5EYwM9gs0vpqU5T/7sz9LW1tbZs+enQ9/+MOZP39+5s6dmyVLluSiiy7K4OCgS6sADKNvfvOb+5e6VSqVrFy5suREMDLYL9D4KtUXXuHDTG9vrz8hHqG6urqSJEuXLi05CYwc5513Xnbv3r3/uLW1NWvXri0xEYwMzr3GcKDe6aYkAA3AjRGgHM69xqcsAzQAN0aAcjj3Gp+yDNAA3BgByuHca3w1uXQcAPXX2dmZzZs3m9mCOnPuNTYzywANYvv27enr68uOHTvKjgIjyoQJE7Js2TKzyg1KWQZoEDfccEN2796dBQsWlB0FoGEoywAN4NFHH83mzZuTJJs3b86Pf/zjkhMBNAZlGaAB3HDDDS86NrsMMDyUZYAG8MKsctExAIdGWQZoABMnTjzgMQCHRlkGaAD/e9nF/16WAdTO1q1bc+WVV2bbtm1lR6EGlGWABnDGGWfsn02eOHFiXve615WcCEaOnp6ebNy4MT09PWVHoQaUZYAGsWDBgrS2tppVhjraunVrVq9enWq1mtWrV5tdbkDKMkCDOOOMM7J27VqzylBHPT09qVarSZKhoSGzyw1IWQYAOET33XdfBgcHkySDg4O59957S07EcBtddgCAw9GaNWuyatWqsmO8LNu3b0+SnHDCCSUneXlmzpyZGTNmlB0DDsn555+fVatWZXBwMGPGjMn06dPLjsQwM7MM0CC2bdtmvSTUWWdnZyqVSpKkqakpnZ2dJSdiuJlZBngJM2bMOOJmO7u6upIkS5cuLTkJjBwTJkxIe3t7Vq5cmfb29owfP77sSAwzZRkA4BXo7OzM5s2bzSo3KGUZAOAVmDBhQpYtW1Z2DGrEmmUAACigLAMAQAFlGQAACijLAABQQFkGAIACyjIAABRQlgEAoICyDAAABZRlAAAooCwDAEABZRkAAAooywAAUEBZBgCAAqPLDgAA8P9as2ZNVq1aVXaM39r27duTJCeccELJSV6emTNnZsaMGWXHOOwpywAAr8C2bduSHHllmd9OzcryhRdemGOPPTZJcsopp+Siiy7KJz/5yYwaNSpTp07NRz7ykVoNDQAcwWbMmHFEzXh2dXUlSZYuXVpyEmqhJmV5YGAgSbJ8+fL9H5s1a1aWLFmS3//9388HP/jBbNq0KW984xtrMTwAAAyLmmzw++EPf5jnn38+l19+eS699NJ897vfzZ49e3LqqaemUqlk6tSpefjhh2sxNAAADJuazCwfddRRueKKK/Ke97wnP/vZz/KBD3wg48aN2/94a2trfvGLXxzwOQYGBtLb21uLeNRYf39/knj9oM6ce1AO515jq0lZnjhxYl7zmtekUqlk4sSJOfbYY/PMM8/sf3z37t0vKs8vpbm5OW1tbbWIR421tLQkidcP6sy5B+Vw7h35DvSLTk2WYdx111359Kc/nSR58skn8/zzz6elpSWPPfZYqtVqHnjggUyePLkWQwMAwLCpyczy7Nmzc+211+Z973tfKpVKPvWpT6WpqSlXXXVV9u3bl6lTp+bMM8+sxdAHdcstt6Svr6+UsUeKF/59X9gdTG1MmjQp3d3dZccAgIZWk7I8duzYfOYzn/mNj9955521GO5l6evry3880ps9o15ddpSG1TR0dJLk4f96tuQkjWvsvi1lRwCAEWFE3pRkz6hX5+njPlR2DDhkJz57a9kRAGBEqMmaZQAAaATKMgAAFFCWAQCggLIMAAAFlGUAACigLAMAQAFlGQAACijLAABQQFkGAIACyjIAABRQlgEAoICyDAAABZRlAAAooCwDAEABZRkAAAooywAAUEBZBgCAAsoyAAAUUJYBAKCAsgwAAAWUZQAAKKAsAwBAAWUZAAAKKMsAAFBAWQYAgALKMgAAFFCWAQCggLIMAAAFlGUAACjwW5Xln/3sZ/n2t7+dJ554ItVqtdaZAADgsDD6YJ+wYsWKrF27Ns8++2wuvPDCPPbYY5k/f349sgEAQKkOOrO8evXqfPWrX82xxx6byy67LBs3bqxHLgAAKN1By/ILyy4qlUqSZOzYsbVNBAAAh4mDLsNob2/PnDlzsmXLlnzgAx/IueeeW49cAABQuoOW5Y6OjrztbW/Lo48+mtNOOy2vf/3r65ELAABKd9CyfO211+7/7/Xr12fMmDE5+eSTM2fOnBx33HGFX7dt27a8+93vzle+8pWMHj0611xzTSqVSiZNmpQFCxakqclV6wAAOLwdtLEODAzkpJNOyjve8Y783u/9Xp588sns2bMnc+fOLfyawcHBzJ8/P0cddVSSZOHChenu7s4dd9yRarWadevWDd93AAAANXLQmeXt27dn8eLFSZJzzjknl19+ebq7uzNnzpzCr7npppty8cUX50tf+lKSZNOmTZkyZUqSZNq0aXnwwQdz3nnnHXDcgYGB9Pb2/tbfyG+rv79/2J8TytDf31+Tc4Qj1wvvb34uoL6ce43toGV5165d+clPfpLTTz89P/nJT9Lf358dO3YUls677747J5xwQs4555z9Zblare6/mkZra2t27tx50GDNzc1pa2t7Od/Lb6WlpSXJs8P+vFBvLS0tNTlHOHL9+v0tfi6gzpx7R74D/aJz0LI8f/78XH311Xnqqady1FFH5V3vele+9a1v5UMf+tBLfv43vvGNVCqVPPzww+nt7c3cuXOzffv2/Y/v3r0748aNO4RvAwAA6uuga5b/6I/+KB//+Mfztre9Lc8//3y2bduWOXPmZPr06S/5+bfffntWrFiR5cuXp62tLTfddFOmTZuWDRs2JPn1JsHJkycP73cBAAA1UDizvGfPnqxevTq33357xo4dm127dmXdunX7N+29HHPnzs28efOyePHinHbaaYVFGwAADieFZfntb397Zs6cmZtvvjmvfe1r8/73v/9lF+Xly5fv/+8VK1YcekoAAChBYVm+9NJLs2rVqjz++OOZPXv2/tteAwDASFG4ZvmDH/xg7rnnnnR0dGTVqlX5wQ9+kEWLFuXRRx+tZz4AACjNQTf4TZkyJYsWLcratWtz8skn52/+5m/qkQsAAEr3W99zety4ceno6MjKlStrmQcAAA4bv3VZBgCAkUZZBgCAAge9g1+j2bZtW8bufSonPntr2VHgkI3duyXbtu0tOwYANDwzywAAUGDEzSyPHz8+j24ZnaeP+1DZUeCQnfjsrRk//riyYwBAwzOzDAAABZRlAAAoMOKWYQDluOWWW9LX11d2jIb2wr9vV1dXyUka26RJk9Ld3V12DKBOlGWgLvr6+vK9/7spe445sewoDWvUvjFJkod++lTJSRrX2F1Plx0BqDNlGaibPcecmCfO+j9lx4BDdvIj3yg7AlBn1iwDAEABZRkAAAooywAAUEBZBgCAAsoyAAAUUJYBAKCAsgwAAAWUZQAAKKAsAwBAAWUZAAAKKMsAAFBAWQYAgALKMgAAFFCWAQCgwOiyAwAAtXPLLbekr6+v7BgN7YV/366urpKTNL5Jkyalu7u7rmMqywDQwPr6+vK9TT/InhOPLztKwxo1ppIkeeipX5acpLGNffqZUsZVlgGgwe058fg8MfvPyo4Br8jJd91fyrjWLAMAQAFlGQAACijLAABQQFkGAIACNdngt2/fvlx//fXZvHlzRo0alYULF6Zareaaa65JpVLJpEmTsmDBgjQ16eoAABy+alKW77//17sVv/71r2fDhg37y3J3d3fOPvvszJ8/P+vWrct5551Xi+EBAGBY1GRq99xzz82NN96YJNmyZUsmTJiQTZs2ZcqUKUmSadOm5aGHHqrF0AAAMGxqdp3l0aNHZ+7cuVm7dm0+//nP5/7770+l8uuLdre2tmbnzp0H/PqBgYH09vYOe67+/v5hf04oQ39/f03OkVpx7tEonHtQnjLOv5relOSmm27KVVddlfe+970ZGBjY//Hdu3dn3LhxB/za5ubmtLW1DXumlpaWJM8O+/NCvbW0tNTkHKmVX597u8qOAa/YEXnu7dpedgwYFrU6/w5UwGuyDGPlypW57bbbkiRHH310KpVK3vSmN2XDhg1JkvXr12fy5Mm1GBoAAIZNTWaWzz///Fx77bWZM2dO9u7dm+uuuy6nn3565s2bl8WLF+e0007L9OnTazE0cJjatm1bxu56Oic/8o2yo8AhG7vr6WzbNqrsGEAd1aQst7S05HOf+9xvfHzFihW1GA4AAGqipmuWAV4wfvz4/OjZfXnirP9TdhQ4ZCc/8o2MHz++7BhAHbkrCAAAFFCWAQCggLIMAAAFlGUAACigLAMAQAFlGQAACozIS8eN3bclJz57a9kxGlbT0M4kyVDTsSUnaVxj921JclzZMQCg4Y24sjxp0qSyIzS8vr6nkiSTJp1ScpJGdpyfZQCogxFXlru7u8uO0PC6urqSJEuXLi05CQDAK2PNMgAAFFCWAQCggLIMAAAFlGUAACigLAMAQAFlGQAACijLAABQQFkGAIACyjIAABRQlgEAoMCIu901AIwk27Zty9inn8nJd91fdhR4RcY+/Uy2jTq67uOaWQYAgAJmlgGggY0fPz4/2vd8npj9Z2VHgVfk5Lvuz/jx4+s+rpllAAAoYGYZqJuxu57OyY98o+wYDWvUnv4kyb6xLSUnaVxjdz2d5KSyYwB1pCwDdTFp0qSyIzS8vr6+JMmk05S52jnJzzKMMMoyUBfd3d1lR2h4XV1dSZKlS5eWnASgcVizDAAABZRlAAAooCwDAEABZRkAAAooywAAUEBZBgCAAsoyAAAUUJYBAKCAsgwAAAWG/Q5+g4ODue666/L4449nz549+fCHP5zXve51ueaaa1KpVDJp0qQsWLAgTU16OgAAh7dhL8v33HNPjj/++CxatCg7duzIu971rvzBH/xBuru7c/bZZ2f+/PlZt25dzjvvvOEeGgAAhtWwl+ULLrgg06dP3388atSobNq0KVOmTEmSTJs2LQ8++OBBy/LAwEB6e3uHOx510N/fnyReP6gz5x4v5YWfC2gE/f39dX+PG/ay3NramiTZtWtXPvrRj6a7uzs33XRTKpXK/sd37tx50Odpbm5OW1vbcMejDlpaWpLE6wd15tzjpbS0tCS7tpcdA4ZFS0tLTd7jDlTAa7Jw+Fe/+lUuvfTSzJo1K+985ztftD559+7dGTduXC2GBQCAYTXsZXnr1q25/PLLc/XVV2f27NlJkje84Q3ZsGFDkmT9+vWZPHnycA8LAADDbtjL8q233prnnnsuy5YtS0dHRzo6OtLd3Z0lS5bkoosuyuDg4IvWNAMAwOFq2NcsX3/99bn++ut/4+MrVqwY7qEAAKCmXOwYAAAKKMsAAFBg2JdhAACHl7FPP5OT77q/7BgNa1T//yRJ9rUcVXKSxjb26WeSk06p+7jKMgA0sEmTJpUdoeH19fUlSSaVUORGlJNOKeXnWVkGgAbW3d1ddoSG19XVlSRZunRpyUmoBWuWAQCggLIMAAAFlGUAACigLAMAQAFlGQAACijLAABQQFkGAIACyjIAABRQlgEAoICyDAAABZRlAAAooCwDAEABZRkAAAooywAAUEBZBgCAAsoyAAAUUJYBAKCAsgwAAAWUZQAAKKAsAwBAAWUZAAAKKMsAAFBAWQYAgALKMgAAFFCWAQCggLIMAAAFlGUAACigLAMAQAFlGQAACijLAABQoGZleePGjeno6EiS/PznP8/73ve+XHLJJVmwYEGGhoZqNSwAAAybmpTlL3/5y7n++uszMDCQJFm4cGG6u7tzxx13pFqtZt26dbUYFgAAhlVNyvKpp56aJUuW7D/etGlTpkyZkiSZNm1aHnrooVoMCwAAw2p0LZ50+vTp+eUvf7n/uFqtplKpJElaW1uzc+fOgz7HwMBAent7axGPGuvv708Srx/UmXMPyuHca2w1Kcv/W1PT/z+BvXv37owbN+6gX9Pc3Jy2trZaxqJGWlpaksTrB3Xm3INyOPeOfAf6RacuV8N4wxvekA0bNiRJ1q9fn8mTJ9djWAAAeEXqUpbnzp2bJUuW5KKLLsrg4GCmT59ej2EBAOAVqdkyjFNOOSV33nlnkmTixIlZsWJFrYYCAICacFMSAAAooCwDAEABZRkAAAooywAAUEBZBgCAAsoyAAAUUJYBAKCAsgwAAAWUZQAAKKAsAwBAAWUZAAAKKMsAAFBAWQYAgALKMgAAFFCWAQCggLIMAAAFlGUAACigLAMAQAFlGQAACijLAABQYHTZAQAOR2vWrMmqVavKjvGy9PX1JUm6urpKTvLyzJw5MzNmzCg7BsBLMrMM0CCOPvro7Nq1K88991zZUQAahpllgJcwY8aMI262c/r06UmSp556KsuXLy85DUBjMLMM0AD+/d//PTt37kyS7Ny5M9/73vdKTgTQGJRlgAYwb968Fx3/7d/+bUlJABqLsgzQAF6YVS46BuDQKMsADeDYY4894DEAh0ZZBmgAN95444uOP/nJT5aUBKCxKMsADeD4448/4DEAh0ZZBmgAN9xww4uOFyxYUFISgMaiLAM0gM2bNx/wGIBDoywDNICJEyce8BiAQ6MsAzSAyy677EXHV1xxRTlBABqM210f5tasWZNVq1aVHeNl6evrS5J0dXWVnOTlmTlz5hF3e2N4wbJly150/IUvfCFvf/vbS0oD0DiUZYbd+PHjy44AI86TTz75ouMnnniipCQAjUVZPszNmDHDbCcAQEnqVpaHhoby8Y9/PD/60Y8yduzYfOITn8hrXvOaeg0P0NBaWlrS39+//7i1tbXENPDKHGlLEC0/bGx12+D3r//6r9mzZ0/+8R//MR/72Mfy6U9/ul5DAzS8T33qUy86XrhwYUlJYOQZP368JYgNrG4zy//xH/+Rc845J0ly1lln5Qc/+MEBP39gYCC9vb31iAZwxDv22GPT3NycgYGBNDc3p7W11XsoR6zXvva1+chHPlJ2jBHB+8TB1a0s79q1K8ccc8z+41GjRmXv3r0ZPfqlIzQ3N6etra1e8QCOeDfddFP++q//OosWLfL+CfAyHOiXhrqV5WOOOSa7d+/efzw0NFRYlAF4+aZMmZIHHnig7BgADaVua5bf/OY3Z/369UmSRx55JGeccUa9hgYAgENSt6nd8847Lw8++GAuvvjiVKvV39iMAgAAh5u6leWmpqb83d/9Xb2GAwCAV6xuyzAAAOBIoywDAEABZRkAAAooywAAUEBZBgCAAsoyAAAUUJYBAKCAsgwAAAWUZQAAKKAsAwBAgbrd7vrlGhgYSG9vb9kxAABocAMDA4WPVarVarWOWQAA4IhhGQYAABRQlgEAoICyDAAABZRlAAAooCwDAEABZRkAAAooywy7jRs3pqOjo+wYMKIMDg7m6quvziWXXJLZs2dn3bp1ZUeCEbGQwrcAAAQLSURBVGHfvn259tprc/HFF2fOnDl57LHHyo7EMDtsb0rCkenLX/5y7rnnnhx99NFlR4ER5Z577snxxx+fRYsWZceOHXnXu96VP//zPy87FjS8+++/P0ny9a9/PRs2bMjChQvzxS9+seRUDCczywyrU089NUuWLCk7Bow4F1xwQf7yL/9y//GoUaNKTAMjx7nnnpsbb7wxSbJly5ZMmDCh5EQMNzPLDKvp06fnl7/8ZdkxYMRpbW1NkuzatSsf/ehH093dXXIiGDlGjx6duXPnZu3atfn85z9fdhyGmZllgAbxq1/9KpdeemlmzZqVd77znWXHgRHlpptuyr333pt58+alv7+/7DgMI2UZoAFs3bo1l19+ea6++urMnj277DgwYqxcuTK33XZbkuToo49OpVKxDKrBKMsADeDWW2/Nc889l2XLlqWjoyMdHR35n//5n7JjQcM7//zz89///d+ZM2dOrrjiilx33XVpbm4uOxbDqFKtVqtlhwAAgMORmWUAACigLAMAQAFlGQAACijLAABQQFkGAIACyjLAYWjDhg1561vfuv8ycO9973uzfPnyl/zcjo6O/OQnP6lzQoCRwe2uAQ5Tb3nLW/LZz342SbJnz55ccMEFmTVrVsaNG1dyMoCRQ1kGOALs2rUrTU1N+eEPf5ibb7451Wo1r3rVq3LzzTfv/5wnnngiH//4xzMwMJBnnnkmXV1dOffcc/PZz3423/nOdzI0NJT29vZcdtlluf3227Ny5co0NTXlzW9+c+bOnVvidwdw+FKWAQ5T3/nOd9LR0ZFKpZIxY8Zk3rx5+cQnPpHPfvazOf3003P77be/aPnFT3/603R2dubss8/Of/7nf2bJkiU599xzs3LlyqxYsSKvetWrcvfddydJ7r777sybNy9nnXVW7rjjjuzduzejR/tfAsD/5p0R4DD1/y7DeMF1112X008/PUkyZ86cFz124okn5otf/GLuuuuuVCqV7N27N0myePHiLF68OFu3bs0555yTJFm4cGG+8pWv5Oabb85ZZ50VN3MFeGk2+AEcQU466aT87Gc/S5J86Utfytq1a/c/9rnPfS6zZs3KokWLcvbZZ6darWbPnj35l3/5lyxevDh///d/n3/+53/O448/njvvvDM33HBDVqxYkd7e3nz/+98v6TsCOLyZWQY4gtxwww257rrr0tTUlBNPPDGXXXZZ/uEf/iFJcsEFF+STn/xkbrvttvzu7/5uduzYkbFjx+a4447LrFmzctxxx+VP/uRP8upXvzqvf/3rM3v27PzO7/xOXvWqV+XMM88s+TsDODxVqv72BgAAL8kyDAAAKKAsAwBAAWUZAAAKKMsAAFBAWQYAgALKMgAAFFCWAQCgwP8HzBfOAzDcgaQAAAAASUVORK5CYII=\n",
      "text/plain": [
       "<Figure size 864x504 with 1 Axes>"
      ]
     },
     "metadata": {},
     "output_type": "display_data"
    }
   ],
   "source": [
    "plt.figure(figsize=(12, 7))\n",
    "sns.boxplot(x='Pclass',y='Age',data=train,palette='winter')"
   ]
  },
  {
   "cell_type": "markdown",
   "metadata": {},
   "source": [
    "Here we can see the wealthier passengers in the higher classes tends to be older, which makes sense and will use these average age values to fill the NaN values based on average age of Pclass for Age."
   ]
  },
  {
   "cell_type": "code",
   "execution_count": 59,
   "metadata": {},
   "outputs": [],
   "source": [
    "def impute_age(cols):\n",
    "    Age = cols[0]\n",
    "    Pclass = cols[1]\n",
    "    \n",
    "    if pd.isnull(Age):\n",
    "\n",
    "        if Pclass == 1:\n",
    "            return 37\n",
    "\n",
    "        elif Pclass == 2:\n",
    "            return 29\n",
    "\n",
    "        else:\n",
    "            return 24\n",
    "\n",
    "    else:\n",
    "        return Age"
   ]
  },
  {
   "cell_type": "code",
   "execution_count": 60,
   "metadata": {},
   "outputs": [],
   "source": [
    "train['Age'] = train[['Age','Pclass']].apply(impute_age,axis=1)"
   ]
  },
  {
   "cell_type": "code",
   "execution_count": 61,
   "metadata": {},
   "outputs": [
    {
     "data": {
      "text/html": [
       "<div>\n",
       "<style scoped>\n",
       "    .dataframe tbody tr th:only-of-type {\n",
       "        vertical-align: middle;\n",
       "    }\n",
       "\n",
       "    .dataframe tbody tr th {\n",
       "        vertical-align: top;\n",
       "    }\n",
       "\n",
       "    .dataframe thead th {\n",
       "        text-align: right;\n",
       "    }\n",
       "</style>\n",
       "<table border=\"1\" class=\"dataframe\">\n",
       "  <thead>\n",
       "    <tr style=\"text-align: right;\">\n",
       "      <th></th>\n",
       "      <th>PassengerId</th>\n",
       "      <th>Survived</th>\n",
       "      <th>Pclass</th>\n",
       "      <th>Name</th>\n",
       "      <th>Sex</th>\n",
       "      <th>Age</th>\n",
       "      <th>SibSp</th>\n",
       "      <th>Parch</th>\n",
       "      <th>Ticket</th>\n",
       "      <th>Fare</th>\n",
       "      <th>Cabin</th>\n",
       "      <th>Embarked</th>\n",
       "    </tr>\n",
       "  </thead>\n",
       "  <tbody>\n",
       "    <tr>\n",
       "      <th>0</th>\n",
       "      <td>1</td>\n",
       "      <td>0</td>\n",
       "      <td>3</td>\n",
       "      <td>Braund, Mr. Owen Harris</td>\n",
       "      <td>male</td>\n",
       "      <td>22.0</td>\n",
       "      <td>1</td>\n",
       "      <td>0</td>\n",
       "      <td>A/5 21171</td>\n",
       "      <td>7.2500</td>\n",
       "      <td>NaN</td>\n",
       "      <td>S</td>\n",
       "    </tr>\n",
       "    <tr>\n",
       "      <th>1</th>\n",
       "      <td>2</td>\n",
       "      <td>1</td>\n",
       "      <td>1</td>\n",
       "      <td>Cumings, Mrs. John Bradley (Florence Briggs Th...</td>\n",
       "      <td>female</td>\n",
       "      <td>38.0</td>\n",
       "      <td>1</td>\n",
       "      <td>0</td>\n",
       "      <td>PC 17599</td>\n",
       "      <td>71.2833</td>\n",
       "      <td>C85</td>\n",
       "      <td>C</td>\n",
       "    </tr>\n",
       "    <tr>\n",
       "      <th>2</th>\n",
       "      <td>3</td>\n",
       "      <td>1</td>\n",
       "      <td>3</td>\n",
       "      <td>Heikkinen, Miss. Laina</td>\n",
       "      <td>female</td>\n",
       "      <td>26.0</td>\n",
       "      <td>0</td>\n",
       "      <td>0</td>\n",
       "      <td>STON/O2. 3101282</td>\n",
       "      <td>7.9250</td>\n",
       "      <td>NaN</td>\n",
       "      <td>S</td>\n",
       "    </tr>\n",
       "    <tr>\n",
       "      <th>3</th>\n",
       "      <td>4</td>\n",
       "      <td>1</td>\n",
       "      <td>1</td>\n",
       "      <td>Futrelle, Mrs. Jacques Heath (Lily May Peel)</td>\n",
       "      <td>female</td>\n",
       "      <td>35.0</td>\n",
       "      <td>1</td>\n",
       "      <td>0</td>\n",
       "      <td>113803</td>\n",
       "      <td>53.1000</td>\n",
       "      <td>C123</td>\n",
       "      <td>S</td>\n",
       "    </tr>\n",
       "    <tr>\n",
       "      <th>4</th>\n",
       "      <td>5</td>\n",
       "      <td>0</td>\n",
       "      <td>3</td>\n",
       "      <td>Allen, Mr. William Henry</td>\n",
       "      <td>male</td>\n",
       "      <td>35.0</td>\n",
       "      <td>0</td>\n",
       "      <td>0</td>\n",
       "      <td>373450</td>\n",
       "      <td>8.0500</td>\n",
       "      <td>NaN</td>\n",
       "      <td>S</td>\n",
       "    </tr>\n",
       "  </tbody>\n",
       "</table>\n",
       "</div>"
      ],
      "text/plain": [
       "   PassengerId  Survived  Pclass  \\\n",
       "0            1         0       3   \n",
       "1            2         1       1   \n",
       "2            3         1       3   \n",
       "3            4         1       1   \n",
       "4            5         0       3   \n",
       "\n",
       "                                                Name     Sex   Age  SibSp  \\\n",
       "0                            Braund, Mr. Owen Harris    male  22.0      1   \n",
       "1  Cumings, Mrs. John Bradley (Florence Briggs Th...  female  38.0      1   \n",
       "2                             Heikkinen, Miss. Laina  female  26.0      0   \n",
       "3       Futrelle, Mrs. Jacques Heath (Lily May Peel)  female  35.0      1   \n",
       "4                           Allen, Mr. William Henry    male  35.0      0   \n",
       "\n",
       "   Parch            Ticket     Fare Cabin Embarked  \n",
       "0      0         A/5 21171   7.2500   NaN        S  \n",
       "1      0          PC 17599  71.2833   C85        C  \n",
       "2      0  STON/O2. 3101282   7.9250   NaN        S  \n",
       "3      0            113803  53.1000  C123        S  \n",
       "4      0            373450   8.0500   NaN        S  "
      ]
     },
     "execution_count": 61,
     "metadata": {},
     "output_type": "execute_result"
    }
   ],
   "source": [
    "train.head()"
   ]
  },
  {
   "cell_type": "markdown",
   "metadata": {},
   "source": [
    "Now let's check that heat map again!"
   ]
  },
  {
   "cell_type": "code",
   "execution_count": 62,
   "metadata": {},
   "outputs": [
    {
     "data": {
      "text/plain": [
       "<matplotlib.axes._subplots.AxesSubplot at 0x19d147d9208>"
      ]
     },
     "execution_count": 62,
     "metadata": {},
     "output_type": "execute_result"
    },
    {
     "data": {
      "image/png": "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\n",
      "text/plain": [
       "<Figure size 432x288 with 1 Axes>"
      ]
     },
     "metadata": {},
     "output_type": "display_data"
    }
   ],
   "source": [
    "sns.heatmap(train.isnull(),yticklabels=False,cbar=False,cmap='viridis')"
   ]
  },
  {
   "cell_type": "markdown",
   "metadata": {},
   "source": [
    "drop the Cabin column and the row in Embarked that is NaN."
   ]
  },
  {
   "cell_type": "code",
   "execution_count": 63,
   "metadata": {},
   "outputs": [],
   "source": [
    "train.drop('Cabin',axis=1,inplace=True)"
   ]
  },
  {
   "cell_type": "code",
   "execution_count": 64,
   "metadata": {},
   "outputs": [
    {
     "data": {
      "text/html": [
       "<div>\n",
       "<style scoped>\n",
       "    .dataframe tbody tr th:only-of-type {\n",
       "        vertical-align: middle;\n",
       "    }\n",
       "\n",
       "    .dataframe tbody tr th {\n",
       "        vertical-align: top;\n",
       "    }\n",
       "\n",
       "    .dataframe thead th {\n",
       "        text-align: right;\n",
       "    }\n",
       "</style>\n",
       "<table border=\"1\" class=\"dataframe\">\n",
       "  <thead>\n",
       "    <tr style=\"text-align: right;\">\n",
       "      <th></th>\n",
       "      <th>PassengerId</th>\n",
       "      <th>Survived</th>\n",
       "      <th>Pclass</th>\n",
       "      <th>Name</th>\n",
       "      <th>Sex</th>\n",
       "      <th>Age</th>\n",
       "      <th>SibSp</th>\n",
       "      <th>Parch</th>\n",
       "      <th>Ticket</th>\n",
       "      <th>Fare</th>\n",
       "      <th>Embarked</th>\n",
       "    </tr>\n",
       "  </thead>\n",
       "  <tbody>\n",
       "    <tr>\n",
       "      <th>0</th>\n",
       "      <td>1</td>\n",
       "      <td>0</td>\n",
       "      <td>3</td>\n",
       "      <td>Braund, Mr. Owen Harris</td>\n",
       "      <td>male</td>\n",
       "      <td>22.0</td>\n",
       "      <td>1</td>\n",
       "      <td>0</td>\n",
       "      <td>A/5 21171</td>\n",
       "      <td>7.2500</td>\n",
       "      <td>S</td>\n",
       "    </tr>\n",
       "    <tr>\n",
       "      <th>1</th>\n",
       "      <td>2</td>\n",
       "      <td>1</td>\n",
       "      <td>1</td>\n",
       "      <td>Cumings, Mrs. John Bradley (Florence Briggs Th...</td>\n",
       "      <td>female</td>\n",
       "      <td>38.0</td>\n",
       "      <td>1</td>\n",
       "      <td>0</td>\n",
       "      <td>PC 17599</td>\n",
       "      <td>71.2833</td>\n",
       "      <td>C</td>\n",
       "    </tr>\n",
       "    <tr>\n",
       "      <th>2</th>\n",
       "      <td>3</td>\n",
       "      <td>1</td>\n",
       "      <td>3</td>\n",
       "      <td>Heikkinen, Miss. Laina</td>\n",
       "      <td>female</td>\n",
       "      <td>26.0</td>\n",
       "      <td>0</td>\n",
       "      <td>0</td>\n",
       "      <td>STON/O2. 3101282</td>\n",
       "      <td>7.9250</td>\n",
       "      <td>S</td>\n",
       "    </tr>\n",
       "    <tr>\n",
       "      <th>3</th>\n",
       "      <td>4</td>\n",
       "      <td>1</td>\n",
       "      <td>1</td>\n",
       "      <td>Futrelle, Mrs. Jacques Heath (Lily May Peel)</td>\n",
       "      <td>female</td>\n",
       "      <td>35.0</td>\n",
       "      <td>1</td>\n",
       "      <td>0</td>\n",
       "      <td>113803</td>\n",
       "      <td>53.1000</td>\n",
       "      <td>S</td>\n",
       "    </tr>\n",
       "    <tr>\n",
       "      <th>4</th>\n",
       "      <td>5</td>\n",
       "      <td>0</td>\n",
       "      <td>3</td>\n",
       "      <td>Allen, Mr. William Henry</td>\n",
       "      <td>male</td>\n",
       "      <td>35.0</td>\n",
       "      <td>0</td>\n",
       "      <td>0</td>\n",
       "      <td>373450</td>\n",
       "      <td>8.0500</td>\n",
       "      <td>S</td>\n",
       "    </tr>\n",
       "  </tbody>\n",
       "</table>\n",
       "</div>"
      ],
      "text/plain": [
       "   PassengerId  Survived  Pclass  \\\n",
       "0            1         0       3   \n",
       "1            2         1       1   \n",
       "2            3         1       3   \n",
       "3            4         1       1   \n",
       "4            5         0       3   \n",
       "\n",
       "                                                Name     Sex   Age  SibSp  \\\n",
       "0                            Braund, Mr. Owen Harris    male  22.0      1   \n",
       "1  Cumings, Mrs. John Bradley (Florence Briggs Th...  female  38.0      1   \n",
       "2                             Heikkinen, Miss. Laina  female  26.0      0   \n",
       "3       Futrelle, Mrs. Jacques Heath (Lily May Peel)  female  35.0      1   \n",
       "4                           Allen, Mr. William Henry    male  35.0      0   \n",
       "\n",
       "   Parch            Ticket     Fare Embarked  \n",
       "0      0         A/5 21171   7.2500        S  \n",
       "1      0          PC 17599  71.2833        C  \n",
       "2      0  STON/O2. 3101282   7.9250        S  \n",
       "3      0            113803  53.1000        S  \n",
       "4      0            373450   8.0500        S  "
      ]
     },
     "execution_count": 64,
     "metadata": {},
     "output_type": "execute_result"
    }
   ],
   "source": [
    "train.head()"
   ]
  },
  {
   "cell_type": "code",
   "execution_count": 65,
   "metadata": {},
   "outputs": [
    {
     "data": {
      "text/html": [
       "<div>\n",
       "<style scoped>\n",
       "    .dataframe tbody tr th:only-of-type {\n",
       "        vertical-align: middle;\n",
       "    }\n",
       "\n",
       "    .dataframe tbody tr th {\n",
       "        vertical-align: top;\n",
       "    }\n",
       "\n",
       "    .dataframe thead th {\n",
       "        text-align: right;\n",
       "    }\n",
       "</style>\n",
       "<table border=\"1\" class=\"dataframe\">\n",
       "  <thead>\n",
       "    <tr style=\"text-align: right;\">\n",
       "      <th></th>\n",
       "      <th>PassengerId</th>\n",
       "      <th>Survived</th>\n",
       "      <th>Pclass</th>\n",
       "      <th>Name</th>\n",
       "      <th>Sex</th>\n",
       "      <th>Age</th>\n",
       "      <th>SibSp</th>\n",
       "      <th>Parch</th>\n",
       "      <th>Ticket</th>\n",
       "      <th>Fare</th>\n",
       "      <th>Embarked</th>\n",
       "    </tr>\n",
       "  </thead>\n",
       "  <tbody>\n",
       "    <tr>\n",
       "      <th>0</th>\n",
       "      <td>False</td>\n",
       "      <td>False</td>\n",
       "      <td>False</td>\n",
       "      <td>False</td>\n",
       "      <td>False</td>\n",
       "      <td>False</td>\n",
       "      <td>False</td>\n",
       "      <td>False</td>\n",
       "      <td>False</td>\n",
       "      <td>False</td>\n",
       "      <td>False</td>\n",
       "    </tr>\n",
       "    <tr>\n",
       "      <th>1</th>\n",
       "      <td>False</td>\n",
       "      <td>False</td>\n",
       "      <td>False</td>\n",
       "      <td>False</td>\n",
       "      <td>False</td>\n",
       "      <td>False</td>\n",
       "      <td>False</td>\n",
       "      <td>False</td>\n",
       "      <td>False</td>\n",
       "      <td>False</td>\n",
       "      <td>False</td>\n",
       "    </tr>\n",
       "    <tr>\n",
       "      <th>2</th>\n",
       "      <td>False</td>\n",
       "      <td>False</td>\n",
       "      <td>False</td>\n",
       "      <td>False</td>\n",
       "      <td>False</td>\n",
       "      <td>False</td>\n",
       "      <td>False</td>\n",
       "      <td>False</td>\n",
       "      <td>False</td>\n",
       "      <td>False</td>\n",
       "      <td>False</td>\n",
       "    </tr>\n",
       "    <tr>\n",
       "      <th>3</th>\n",
       "      <td>False</td>\n",
       "      <td>False</td>\n",
       "      <td>False</td>\n",
       "      <td>False</td>\n",
       "      <td>False</td>\n",
       "      <td>False</td>\n",
       "      <td>False</td>\n",
       "      <td>False</td>\n",
       "      <td>False</td>\n",
       "      <td>False</td>\n",
       "      <td>False</td>\n",
       "    </tr>\n",
       "    <tr>\n",
       "      <th>4</th>\n",
       "      <td>False</td>\n",
       "      <td>False</td>\n",
       "      <td>False</td>\n",
       "      <td>False</td>\n",
       "      <td>False</td>\n",
       "      <td>False</td>\n",
       "      <td>False</td>\n",
       "      <td>False</td>\n",
       "      <td>False</td>\n",
       "      <td>False</td>\n",
       "      <td>False</td>\n",
       "    </tr>\n",
       "    <tr>\n",
       "      <th>...</th>\n",
       "      <td>...</td>\n",
       "      <td>...</td>\n",
       "      <td>...</td>\n",
       "      <td>...</td>\n",
       "      <td>...</td>\n",
       "      <td>...</td>\n",
       "      <td>...</td>\n",
       "      <td>...</td>\n",
       "      <td>...</td>\n",
       "      <td>...</td>\n",
       "      <td>...</td>\n",
       "    </tr>\n",
       "    <tr>\n",
       "      <th>886</th>\n",
       "      <td>False</td>\n",
       "      <td>False</td>\n",
       "      <td>False</td>\n",
       "      <td>False</td>\n",
       "      <td>False</td>\n",
       "      <td>False</td>\n",
       "      <td>False</td>\n",
       "      <td>False</td>\n",
       "      <td>False</td>\n",
       "      <td>False</td>\n",
       "      <td>False</td>\n",
       "    </tr>\n",
       "    <tr>\n",
       "      <th>887</th>\n",
       "      <td>False</td>\n",
       "      <td>False</td>\n",
       "      <td>False</td>\n",
       "      <td>False</td>\n",
       "      <td>False</td>\n",
       "      <td>False</td>\n",
       "      <td>False</td>\n",
       "      <td>False</td>\n",
       "      <td>False</td>\n",
       "      <td>False</td>\n",
       "      <td>False</td>\n",
       "    </tr>\n",
       "    <tr>\n",
       "      <th>888</th>\n",
       "      <td>False</td>\n",
       "      <td>False</td>\n",
       "      <td>False</td>\n",
       "      <td>False</td>\n",
       "      <td>False</td>\n",
       "      <td>False</td>\n",
       "      <td>False</td>\n",
       "      <td>False</td>\n",
       "      <td>False</td>\n",
       "      <td>False</td>\n",
       "      <td>False</td>\n",
       "    </tr>\n",
       "    <tr>\n",
       "      <th>889</th>\n",
       "      <td>False</td>\n",
       "      <td>False</td>\n",
       "      <td>False</td>\n",
       "      <td>False</td>\n",
       "      <td>False</td>\n",
       "      <td>False</td>\n",
       "      <td>False</td>\n",
       "      <td>False</td>\n",
       "      <td>False</td>\n",
       "      <td>False</td>\n",
       "      <td>False</td>\n",
       "    </tr>\n",
       "    <tr>\n",
       "      <th>890</th>\n",
       "      <td>False</td>\n",
       "      <td>False</td>\n",
       "      <td>False</td>\n",
       "      <td>False</td>\n",
       "      <td>False</td>\n",
       "      <td>False</td>\n",
       "      <td>False</td>\n",
       "      <td>False</td>\n",
       "      <td>False</td>\n",
       "      <td>False</td>\n",
       "      <td>False</td>\n",
       "    </tr>\n",
       "  </tbody>\n",
       "</table>\n",
       "<p>891 rows × 11 columns</p>\n",
       "</div>"
      ],
      "text/plain": [
       "     PassengerId  Survived  Pclass   Name    Sex    Age  SibSp  Parch  Ticket  \\\n",
       "0          False     False   False  False  False  False  False  False   False   \n",
       "1          False     False   False  False  False  False  False  False   False   \n",
       "2          False     False   False  False  False  False  False  False   False   \n",
       "3          False     False   False  False  False  False  False  False   False   \n",
       "4          False     False   False  False  False  False  False  False   False   \n",
       "..           ...       ...     ...    ...    ...    ...    ...    ...     ...   \n",
       "886        False     False   False  False  False  False  False  False   False   \n",
       "887        False     False   False  False  False  False  False  False   False   \n",
       "888        False     False   False  False  False  False  False  False   False   \n",
       "889        False     False   False  False  False  False  False  False   False   \n",
       "890        False     False   False  False  False  False  False  False   False   \n",
       "\n",
       "      Fare  Embarked  \n",
       "0    False     False  \n",
       "1    False     False  \n",
       "2    False     False  \n",
       "3    False     False  \n",
       "4    False     False  \n",
       "..     ...       ...  \n",
       "886  False     False  \n",
       "887  False     False  \n",
       "888  False     False  \n",
       "889  False     False  \n",
       "890  False     False  \n",
       "\n",
       "[891 rows x 11 columns]"
      ]
     },
     "execution_count": 65,
     "metadata": {},
     "output_type": "execute_result"
    }
   ],
   "source": [
    "train.isnull()"
   ]
  },
  {
   "cell_type": "code",
   "execution_count": 66,
   "metadata": {},
   "outputs": [
    {
     "name": "stdout",
     "output_type": "stream",
     "text": [
      "S    644\n",
      "C    168\n",
      "Q     77\n",
      "Name: Embarked, dtype: int64\n"
     ]
    }
   ],
   "source": [
    "print(train['Embarked'].value_counts())\n",
    "train.dropna(inplace=True)"
   ]
  },
  {
   "cell_type": "markdown",
   "metadata": {},
   "source": [
    "## Converting Categorical Features "
   ]
  },
  {
   "cell_type": "code",
   "execution_count": 67,
   "metadata": {},
   "outputs": [
    {
     "name": "stdout",
     "output_type": "stream",
     "text": [
      "<class 'pandas.core.frame.DataFrame'>\n",
      "Int64Index: 889 entries, 0 to 890\n",
      "Data columns (total 11 columns):\n",
      " #   Column       Non-Null Count  Dtype  \n",
      "---  ------       --------------  -----  \n",
      " 0   PassengerId  889 non-null    int64  \n",
      " 1   Survived     889 non-null    int64  \n",
      " 2   Pclass       889 non-null    int64  \n",
      " 3   Name         889 non-null    object \n",
      " 4   Sex          889 non-null    object \n",
      " 5   Age          889 non-null    float64\n",
      " 6   SibSp        889 non-null    int64  \n",
      " 7   Parch        889 non-null    int64  \n",
      " 8   Ticket       889 non-null    object \n",
      " 9   Fare         889 non-null    float64\n",
      " 10  Embarked     889 non-null    object \n",
      "dtypes: float64(2), int64(5), object(4)\n",
      "memory usage: 83.3+ KB\n"
     ]
    }
   ],
   "source": [
    "train.info()"
   ]
  },
  {
   "cell_type": "code",
   "execution_count": 68,
   "metadata": {},
   "outputs": [
    {
     "data": {
      "text/html": [
       "<div>\n",
       "<style scoped>\n",
       "    .dataframe tbody tr th:only-of-type {\n",
       "        vertical-align: middle;\n",
       "    }\n",
       "\n",
       "    .dataframe tbody tr th {\n",
       "        vertical-align: top;\n",
       "    }\n",
       "\n",
       "    .dataframe thead th {\n",
       "        text-align: right;\n",
       "    }\n",
       "</style>\n",
       "<table border=\"1\" class=\"dataframe\">\n",
       "  <thead>\n",
       "    <tr style=\"text-align: right;\">\n",
       "      <th></th>\n",
       "      <th>Q</th>\n",
       "      <th>S</th>\n",
       "    </tr>\n",
       "  </thead>\n",
       "  <tbody>\n",
       "    <tr>\n",
       "      <th>0</th>\n",
       "      <td>0</td>\n",
       "      <td>1</td>\n",
       "    </tr>\n",
       "    <tr>\n",
       "      <th>1</th>\n",
       "      <td>0</td>\n",
       "      <td>0</td>\n",
       "    </tr>\n",
       "    <tr>\n",
       "      <th>2</th>\n",
       "      <td>0</td>\n",
       "      <td>1</td>\n",
       "    </tr>\n",
       "    <tr>\n",
       "      <th>3</th>\n",
       "      <td>0</td>\n",
       "      <td>1</td>\n",
       "    </tr>\n",
       "    <tr>\n",
       "      <th>4</th>\n",
       "      <td>0</td>\n",
       "      <td>1</td>\n",
       "    </tr>\n",
       "  </tbody>\n",
       "</table>\n",
       "</div>"
      ],
      "text/plain": [
       "   Q  S\n",
       "0  0  1\n",
       "1  0  0\n",
       "2  0  1\n",
       "3  0  1\n",
       "4  0  1"
      ]
     },
     "execution_count": 68,
     "metadata": {},
     "output_type": "execute_result"
    }
   ],
   "source": [
    "pd.get_dummies(train['Embarked'],drop_first=True).head()"
   ]
  },
  {
   "cell_type": "code",
   "execution_count": 69,
   "metadata": {},
   "outputs": [],
   "source": [
    "sex = pd.get_dummies(train['Sex'],drop_first=True)\n",
    "embark = pd.get_dummies(train['Embarked'],drop_first=True)"
   ]
  },
  {
   "cell_type": "code",
   "execution_count": 70,
   "metadata": {},
   "outputs": [
    {
     "data": {
      "text/html": [
       "<div>\n",
       "<style scoped>\n",
       "    .dataframe tbody tr th:only-of-type {\n",
       "        vertical-align: middle;\n",
       "    }\n",
       "\n",
       "    .dataframe tbody tr th {\n",
       "        vertical-align: top;\n",
       "    }\n",
       "\n",
       "    .dataframe thead th {\n",
       "        text-align: right;\n",
       "    }\n",
       "</style>\n",
       "<table border=\"1\" class=\"dataframe\">\n",
       "  <thead>\n",
       "    <tr style=\"text-align: right;\">\n",
       "      <th></th>\n",
       "      <th>PassengerId</th>\n",
       "      <th>Survived</th>\n",
       "      <th>Pclass</th>\n",
       "      <th>Age</th>\n",
       "      <th>SibSp</th>\n",
       "      <th>Parch</th>\n",
       "      <th>Fare</th>\n",
       "    </tr>\n",
       "  </thead>\n",
       "  <tbody>\n",
       "    <tr>\n",
       "      <th>0</th>\n",
       "      <td>1</td>\n",
       "      <td>0</td>\n",
       "      <td>3</td>\n",
       "      <td>22.0</td>\n",
       "      <td>1</td>\n",
       "      <td>0</td>\n",
       "      <td>7.2500</td>\n",
       "    </tr>\n",
       "    <tr>\n",
       "      <th>1</th>\n",
       "      <td>2</td>\n",
       "      <td>1</td>\n",
       "      <td>1</td>\n",
       "      <td>38.0</td>\n",
       "      <td>1</td>\n",
       "      <td>0</td>\n",
       "      <td>71.2833</td>\n",
       "    </tr>\n",
       "    <tr>\n",
       "      <th>2</th>\n",
       "      <td>3</td>\n",
       "      <td>1</td>\n",
       "      <td>3</td>\n",
       "      <td>26.0</td>\n",
       "      <td>0</td>\n",
       "      <td>0</td>\n",
       "      <td>7.9250</td>\n",
       "    </tr>\n",
       "    <tr>\n",
       "      <th>3</th>\n",
       "      <td>4</td>\n",
       "      <td>1</td>\n",
       "      <td>1</td>\n",
       "      <td>35.0</td>\n",
       "      <td>1</td>\n",
       "      <td>0</td>\n",
       "      <td>53.1000</td>\n",
       "    </tr>\n",
       "    <tr>\n",
       "      <th>4</th>\n",
       "      <td>5</td>\n",
       "      <td>0</td>\n",
       "      <td>3</td>\n",
       "      <td>35.0</td>\n",
       "      <td>0</td>\n",
       "      <td>0</td>\n",
       "      <td>8.0500</td>\n",
       "    </tr>\n",
       "  </tbody>\n",
       "</table>\n",
       "</div>"
      ],
      "text/plain": [
       "   PassengerId  Survived  Pclass   Age  SibSp  Parch     Fare\n",
       "0            1         0       3  22.0      1      0   7.2500\n",
       "1            2         1       1  38.0      1      0  71.2833\n",
       "2            3         1       3  26.0      0      0   7.9250\n",
       "3            4         1       1  35.0      1      0  53.1000\n",
       "4            5         0       3  35.0      0      0   8.0500"
      ]
     },
     "execution_count": 70,
     "metadata": {},
     "output_type": "execute_result"
    }
   ],
   "source": [
    "train.drop(['Sex','Embarked','Name','Ticket'],axis=1,inplace=True)\n",
    "train.head()"
   ]
  },
  {
   "cell_type": "code",
   "execution_count": 71,
   "metadata": {},
   "outputs": [
    {
     "data": {
      "text/html": [
       "<div>\n",
       "<style scoped>\n",
       "    .dataframe tbody tr th:only-of-type {\n",
       "        vertical-align: middle;\n",
       "    }\n",
       "\n",
       "    .dataframe tbody tr th {\n",
       "        vertical-align: top;\n",
       "    }\n",
       "\n",
       "    .dataframe thead th {\n",
       "        text-align: right;\n",
       "    }\n",
       "</style>\n",
       "<table border=\"1\" class=\"dataframe\">\n",
       "  <thead>\n",
       "    <tr style=\"text-align: right;\">\n",
       "      <th></th>\n",
       "      <th>PassengerId</th>\n",
       "      <th>Survived</th>\n",
       "      <th>Pclass</th>\n",
       "      <th>Age</th>\n",
       "      <th>SibSp</th>\n",
       "      <th>Parch</th>\n",
       "      <th>Fare</th>\n",
       "    </tr>\n",
       "  </thead>\n",
       "  <tbody>\n",
       "    <tr>\n",
       "      <th>0</th>\n",
       "      <td>1</td>\n",
       "      <td>0</td>\n",
       "      <td>3</td>\n",
       "      <td>22.0</td>\n",
       "      <td>1</td>\n",
       "      <td>0</td>\n",
       "      <td>7.2500</td>\n",
       "    </tr>\n",
       "    <tr>\n",
       "      <th>1</th>\n",
       "      <td>2</td>\n",
       "      <td>1</td>\n",
       "      <td>1</td>\n",
       "      <td>38.0</td>\n",
       "      <td>1</td>\n",
       "      <td>0</td>\n",
       "      <td>71.2833</td>\n",
       "    </tr>\n",
       "    <tr>\n",
       "      <th>2</th>\n",
       "      <td>3</td>\n",
       "      <td>1</td>\n",
       "      <td>3</td>\n",
       "      <td>26.0</td>\n",
       "      <td>0</td>\n",
       "      <td>0</td>\n",
       "      <td>7.9250</td>\n",
       "    </tr>\n",
       "    <tr>\n",
       "      <th>3</th>\n",
       "      <td>4</td>\n",
       "      <td>1</td>\n",
       "      <td>1</td>\n",
       "      <td>35.0</td>\n",
       "      <td>1</td>\n",
       "      <td>0</td>\n",
       "      <td>53.1000</td>\n",
       "    </tr>\n",
       "    <tr>\n",
       "      <th>4</th>\n",
       "      <td>5</td>\n",
       "      <td>0</td>\n",
       "      <td>3</td>\n",
       "      <td>35.0</td>\n",
       "      <td>0</td>\n",
       "      <td>0</td>\n",
       "      <td>8.0500</td>\n",
       "    </tr>\n",
       "  </tbody>\n",
       "</table>\n",
       "</div>"
      ],
      "text/plain": [
       "   PassengerId  Survived  Pclass   Age  SibSp  Parch     Fare\n",
       "0            1         0       3  22.0      1      0   7.2500\n",
       "1            2         1       1  38.0      1      0  71.2833\n",
       "2            3         1       3  26.0      0      0   7.9250\n",
       "3            4         1       1  35.0      1      0  53.1000\n",
       "4            5         0       3  35.0      0      0   8.0500"
      ]
     },
     "execution_count": 71,
     "metadata": {},
     "output_type": "execute_result"
    }
   ],
   "source": [
    "train.head()"
   ]
  },
  {
   "cell_type": "code",
   "execution_count": 72,
   "metadata": {},
   "outputs": [],
   "source": [
    "train = pd.concat([train,sex,embark],axis=1)"
   ]
  },
  {
   "cell_type": "code",
   "execution_count": 73,
   "metadata": {},
   "outputs": [
    {
     "data": {
      "text/html": [
       "<div>\n",
       "<style scoped>\n",
       "    .dataframe tbody tr th:only-of-type {\n",
       "        vertical-align: middle;\n",
       "    }\n",
       "\n",
       "    .dataframe tbody tr th {\n",
       "        vertical-align: top;\n",
       "    }\n",
       "\n",
       "    .dataframe thead th {\n",
       "        text-align: right;\n",
       "    }\n",
       "</style>\n",
       "<table border=\"1\" class=\"dataframe\">\n",
       "  <thead>\n",
       "    <tr style=\"text-align: right;\">\n",
       "      <th></th>\n",
       "      <th>PassengerId</th>\n",
       "      <th>Survived</th>\n",
       "      <th>Pclass</th>\n",
       "      <th>Age</th>\n",
       "      <th>SibSp</th>\n",
       "      <th>Parch</th>\n",
       "      <th>Fare</th>\n",
       "      <th>male</th>\n",
       "      <th>Q</th>\n",
       "      <th>S</th>\n",
       "    </tr>\n",
       "  </thead>\n",
       "  <tbody>\n",
       "    <tr>\n",
       "      <th>0</th>\n",
       "      <td>1</td>\n",
       "      <td>0</td>\n",
       "      <td>3</td>\n",
       "      <td>22.0</td>\n",
       "      <td>1</td>\n",
       "      <td>0</td>\n",
       "      <td>7.2500</td>\n",
       "      <td>1</td>\n",
       "      <td>0</td>\n",
       "      <td>1</td>\n",
       "    </tr>\n",
       "    <tr>\n",
       "      <th>1</th>\n",
       "      <td>2</td>\n",
       "      <td>1</td>\n",
       "      <td>1</td>\n",
       "      <td>38.0</td>\n",
       "      <td>1</td>\n",
       "      <td>0</td>\n",
       "      <td>71.2833</td>\n",
       "      <td>0</td>\n",
       "      <td>0</td>\n",
       "      <td>0</td>\n",
       "    </tr>\n",
       "    <tr>\n",
       "      <th>2</th>\n",
       "      <td>3</td>\n",
       "      <td>1</td>\n",
       "      <td>3</td>\n",
       "      <td>26.0</td>\n",
       "      <td>0</td>\n",
       "      <td>0</td>\n",
       "      <td>7.9250</td>\n",
       "      <td>0</td>\n",
       "      <td>0</td>\n",
       "      <td>1</td>\n",
       "    </tr>\n",
       "    <tr>\n",
       "      <th>3</th>\n",
       "      <td>4</td>\n",
       "      <td>1</td>\n",
       "      <td>1</td>\n",
       "      <td>35.0</td>\n",
       "      <td>1</td>\n",
       "      <td>0</td>\n",
       "      <td>53.1000</td>\n",
       "      <td>0</td>\n",
       "      <td>0</td>\n",
       "      <td>1</td>\n",
       "    </tr>\n",
       "    <tr>\n",
       "      <th>4</th>\n",
       "      <td>5</td>\n",
       "      <td>0</td>\n",
       "      <td>3</td>\n",
       "      <td>35.0</td>\n",
       "      <td>0</td>\n",
       "      <td>0</td>\n",
       "      <td>8.0500</td>\n",
       "      <td>1</td>\n",
       "      <td>0</td>\n",
       "      <td>1</td>\n",
       "    </tr>\n",
       "  </tbody>\n",
       "</table>\n",
       "</div>"
      ],
      "text/plain": [
       "   PassengerId  Survived  Pclass   Age  SibSp  Parch     Fare  male  Q  S\n",
       "0            1         0       3  22.0      1      0   7.2500     1  0  1\n",
       "1            2         1       1  38.0      1      0  71.2833     0  0  0\n",
       "2            3         1       3  26.0      0      0   7.9250     0  0  1\n",
       "3            4         1       1  35.0      1      0  53.1000     0  0  1\n",
       "4            5         0       3  35.0      0      0   8.0500     1  0  1"
      ]
     },
     "execution_count": 73,
     "metadata": {},
     "output_type": "execute_result"
    }
   ],
   "source": [
    "train.head()"
   ]
  },
  {
   "cell_type": "markdown",
   "metadata": {},
   "source": [
    "\n",
    "\n",
    "# Building a Logistic Regression model\n",
    "\n",
    "## Train Test Split"
   ]
  },
  {
   "cell_type": "code",
   "execution_count": 74,
   "metadata": {},
   "outputs": [
    {
     "data": {
      "text/html": [
       "<div>\n",
       "<style scoped>\n",
       "    .dataframe tbody tr th:only-of-type {\n",
       "        vertical-align: middle;\n",
       "    }\n",
       "\n",
       "    .dataframe tbody tr th {\n",
       "        vertical-align: top;\n",
       "    }\n",
       "\n",
       "    .dataframe thead th {\n",
       "        text-align: right;\n",
       "    }\n",
       "</style>\n",
       "<table border=\"1\" class=\"dataframe\">\n",
       "  <thead>\n",
       "    <tr style=\"text-align: right;\">\n",
       "      <th></th>\n",
       "      <th>PassengerId</th>\n",
       "      <th>Pclass</th>\n",
       "      <th>Age</th>\n",
       "      <th>SibSp</th>\n",
       "      <th>Parch</th>\n",
       "      <th>Fare</th>\n",
       "      <th>male</th>\n",
       "      <th>Q</th>\n",
       "      <th>S</th>\n",
       "    </tr>\n",
       "  </thead>\n",
       "  <tbody>\n",
       "    <tr>\n",
       "      <th>0</th>\n",
       "      <td>1</td>\n",
       "      <td>3</td>\n",
       "      <td>22.0</td>\n",
       "      <td>1</td>\n",
       "      <td>0</td>\n",
       "      <td>7.2500</td>\n",
       "      <td>1</td>\n",
       "      <td>0</td>\n",
       "      <td>1</td>\n",
       "    </tr>\n",
       "    <tr>\n",
       "      <th>1</th>\n",
       "      <td>2</td>\n",
       "      <td>1</td>\n",
       "      <td>38.0</td>\n",
       "      <td>1</,
    "# Building a Logistic Regression model\n",
    "\n",
    "## Train Test Split"
   ]
  },
  {
   "cell_type": "code",
   "execution_count": 29,
   "metadata": {},
   "outputs": [
    {
     "data": {
      "text/html": [
       "<div>\n",
       "<style scoped>\n",
       "    .dataframe tbody tr th:only-of-type {\n",
       "        vertical-align: middle;\n",
       "    }\n",
       "\n",
       "    .dataframe tbody tr th {\n",
       "        vertical-align: top;\n",
       "    }\n",
       "\n",
       "    .dataframe thead th {\n",
       "        text-align: right;\n",
       "    }\n",
       "</style>\n",
       "<table border=\"1\" class=\"dataframe\">\n",
       "  <thead>\n",
       "    <tr style=\"text-align: right;\">\n",
       "      <th></th>\n",
       "      <th>PassengerId</th>\n",
       "      <th>Pclass</th>\n",
       "      <th>Age</th>\n",
       "      <th>SibSp</th>\n",
       "      <th>Parch</th>\n",
       "      <th>Fare</th>\n",
       "      <th>male</th>\n",
       "      <th>Q</th>\n",
       "      <th>S</th>\n",
       "    </tr>\n",
       "  </thead>\n",
       "  <tbody>\n",
       "    <tr>\n",
       "      <th>0</th>\n",
       "      <td>1</td>\n",
       "      <td>3</td>\n",
       "      <td>22.0</td>\n",
       "      <td>1</td>\n",
       "      <td>0</td>\n",
       "      <td>7.2500</td>\n",
       "      <td>1</td>\n",
       "      <td>0</td>\n",
       "      <td>1</td>\n",
       "    </tr>\n",
       "    <tr>\n",
       "      <th>1</th>\n",
       "      <td>2</td>\n",
       "      <td>1</td>\n",
       "      <td>38.0</td>\n",
       "      <td>1</td>\n",
       "      <td>0</td>\n",
       "      <td>71.2833</td>\n",
       "      <td>0</td>\n",
       "      <td>0</td>\n",
       "      <td>0</td>\n",
       "    </tr>\n",
       "    <tr>\n",
       "      <th>2</th>\n",
       "      <td>3</td>\n",
       "      <td>3</td>\n",
       "      <td>26.0</td>\n",
       "      <td>0</td>\n",
       "      <td>0</td>\n",
       "      <td>7.9250</td>\n",
       "      <td>0</td>\n",
       "      <td>0</td>\n",
       "      <td>1</td>\n",
       "    </tr>\n",
       "    <tr>\n",
       "      <th>3</th>\n",
       "      <td>4</td>\n",
       "      <td>1</td>\n",
       "      <td>35.0</td>\n",
       "      <td>1</td>\n",
       "      <td>0</td>\n",
       "      <td>53.1000</td>\n",
       "      <td>0</td>\n",
       "      <td>0</td>\n",
       "      <td>1</td>\n",
       "    </tr>\n",
       "    <tr>\n",
       "      <th>4</th>\n",
       "      <td>5</td>\n",
       "      <td>3</td>\n",
       "      <td>35.0</td>\n",
       "      <td>0</td>\n",
       "      <td>0</td>\n",
       "      <td>8.0500</td>\n",
       "      <td>1</td>\n",
       "      <td>0</td>\n",
       "      <td>1</td>\n",
       "    </tr>\n",
       "  </tbody>\n",
       "</table>\n",
       "</div>"
      ],
      "text/plain": [
       "   PassengerId  Pclass   Age  SibSp  Parch     Fare  male  Q  S\n",
       "0            1       3  22.0      1      0   7.2500     1  0  1\n",
       "1            2       1  38.0      1      0  71.2833     0  0  0\n",
       "2            3       3  26.0      0      0   7.9250     0  0  1\n",
       "3            4       1  35.0      1      0  53.1000     0  0  1\n",
       "4            5       3  35.0      0      0   8.0500     1  0  1"
      ]
     },
     "execution_count": 29,
     "metadata": {},
     "output_type": "execute_result"
    }
   ],
   "source": [
    "train.drop('Survived',axis=1).head()\n"
   ]
  },
  {
   "cell_type": "code",
   "execution_count": 30,
   "metadata": {},
   "outputs": [],
   "source": [
    "from sklearn.model_selection import train_test_split"
   ]
  },
  {
   "cell_type": "code",
   "execution_count": 31,
   "metadata": {},
   "outputs": [],
   "source": [
    "X_train, X_test, y_train, y_test = train_test_split(train.drop('Survived',axis=1), \n",
    "                                                    train['Survived'], test_size=0.30, \n",
    "                                                    random_state=101)"
   ]
  },
  {
   "cell_type": "markdown",
   "metadata": {},
   "source": [
    "## Training and Predicting"
   ]
  },
  {
   "cell_type": "code",
   "execution_count": 32,
   "metadata": {},
   "outputs": [],
   "source": [
    "from sklearn.linear_model import LogisticRegression"
   ]
  },
  {
   "cell_type": "code",
   "execution_count": 33,
   "metadata": {},
   "outputs": [
    {
     "name": "stderr",
     "output_type": "stream",
     "text": [
      "C:\\Users\\RAVI SAHU\\anaconda3\\lib\\site-packages\\sklearn\\linear_model\\_logistic.py:764: ConvergenceWarning: lbfgs failed to converge (status=1):\n",
      "STOP: TOTAL NO. of ITERATIONS REACHED LIMIT.\n",
      "\n",
      "Increase the number of iterations (max_iter) or scale the data as shown in:\n",
      "    https://scikit-learn.org/stable/modules/preprocessing.html\n",
      "Please also refer to the documentation for alternative solver options:\n",
      "    https://scikit-learn.org/stable/modules/linear_model.html#logistic-regression\n",
      "  extra_warning_msg=_LOGISTIC_SOLVER_CONVERGENCE_MSG)\n"
     ]
    },
    {
     "data": {
      "text/plain": [
       "LogisticRegression()"
      ]
     },
     "execution_count": 33,
     "metadata": {},
     "output_type": "execute_result"
    }
   ],
   "source": [
    "logmodel = LogisticRegression()\n",
    "logmodel.fit(X_train,y_train)"
   ]
  },
  {
   "cell_type": "code",
   "execution_count": 34,
   "metadata": {},
   "outputs": [],
   "source": [
    "predictions = logmodel.predict(X_test)"
   ]
  },
  {
   "cell_type": "code",
   "execution_count": 35,
   "metadata": {},
   "outputs": [],
   "source": [
    "from sklearn.metrics import confusion_matrix\n"
   ]
  },
  {
   "cell_type": "code",
   "execution_count": 36,
   "metadata": {},
   "outputs": [],
   "source": [
    "\n",
    "accuracy=confusion_matrix(y_test,predictions)"
   ]
  },
  {
   "cell_type": "code",
   "execution_count": 37,
   "metadata": {},
   "outputs": [
    {
     "data": {
      "text/plain": [
       "array([[149,  14],\n",
       "       [ 39,  65]], dtype=int64)"
      ]
     },
     "execution_count": 37,
     "metadata": {},
     "output_type": "execute_result"
    }
   ],
   "source": [
    "accuracy"
   ]
  },
  {
   "cell_type": "code",
   "execution_count": 38,
   "metadata": {},
   "outputs": [],
   "source": [
    "from sklearn.metrics import accuracy_score"
   ]
  },
  {
   "cell_type": "code",
   "execution_count": 39,
   "metadata": {},
   "outputs": [
    {
     "data": {
      "text/plain": [
       "0.8014981273408239"
      ]
     },
     "execution_count": 39,
     "metadata": {},
     "output_type": "execute_result"
    }
   ],
   "source": [
    "accuracy=accuracy_score(y_test,predictions)\n",
    "accuracy"
   ]
  },
  {
   "cell_type": "markdown",
   "metadata": {},
   "source": [
    "Let's move on to evaluate our model!"
   ]
  },
  